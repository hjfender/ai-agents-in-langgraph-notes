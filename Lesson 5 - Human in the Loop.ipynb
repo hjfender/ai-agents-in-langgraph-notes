{
 "cells": [
  {
   "cell_type": "markdown",
   "metadata": {},
   "source": [
    "# Setup"
   ]
  },
  {
   "cell_type": "code",
   "execution_count": 1,
   "metadata": {},
   "outputs": [],
   "source": [
    "from dotenv import load_dotenv\n",
    "\n",
    "_ = load_dotenv()"
   ]
  },
  {
   "cell_type": "code",
   "execution_count": 2,
   "metadata": {},
   "outputs": [],
   "source": [
    "from langgraph.graph import StateGraph, END\n",
    "from typing import TypedDict, Annotated\n",
    "import operator\n",
    "from langchain_core.messages import AnyMessage, SystemMessage, HumanMessage, ToolMessage\n",
    "from langchain_openai import ChatOpenAI\n",
    "from langchain_community.tools.tavily_search import TavilySearchResults\n",
    "from langgraph.checkpoint.sqlite import SqliteSaver\n",
    "\n",
    "memory = SqliteSaver.from_conn_string(\":memory:\")"
   ]
  },
  {
   "cell_type": "markdown",
   "metadata": {},
   "source": [
    "# Agent"
   ]
  },
  {
   "cell_type": "code",
   "execution_count": 3,
   "metadata": {},
   "outputs": [],
   "source": [
    "from uuid import uuid4\n",
    "from langchain_core.messages import AnyMessage, SystemMessage, HumanMessage, AIMessage\n",
    "\n",
    "\"\"\"\n",
    "In previous examples we've annotated the `messages` state key\n",
    "with the default `operator.add` or `+` reducer, which always\n",
    "appends new messages to the end of the existing messages array.\n",
    "\n",
    "Now, to support replacing existing messages, we annotate the\n",
    "`messages` key with a customer reducer function, which replaces\n",
    "messages with the same `id`, and appends them otherwise.\n",
    "\"\"\"\n",
    "def reduce_messages(left: list[AnyMessage], right: list[AnyMessage]) -> list[AnyMessage]:\n",
    "    # assign ids to messages that don't have them\n",
    "    for message in right:\n",
    "        if not message.id:\n",
    "            message.id = str(uuid4())\n",
    "    # merge the new messages with the existing messages\n",
    "    merged = left.copy()\n",
    "    for message in right:\n",
    "        for i, existing in enumerate(merged):\n",
    "            # replace any existing messages with the same id\n",
    "            if existing.id == message.id:\n",
    "                merged[i] = message\n",
    "                break\n",
    "        else:\n",
    "            # append any new messages to the end\n",
    "            merged.append(message)\n",
    "    return merged\n",
    "\n",
    "class AgentState(TypedDict):\n",
    "    messages: Annotated[list[AnyMessage], reduce_messages]"
   ]
  },
  {
   "cell_type": "code",
   "execution_count": 4,
   "metadata": {},
   "outputs": [],
   "source": [
    "tool = TavilySearchResults(max_results=2)"
   ]
  },
  {
   "cell_type": "code",
   "execution_count": 5,
   "metadata": {},
   "outputs": [],
   "source": [
    "class Agent:\n",
    "    def __init__(self, model, tools, system=\"\", checkpointer=None):\n",
    "        self.system = system\n",
    "        graph = StateGraph(AgentState)\n",
    "        graph.add_node(\"llm\", self.call_openai)\n",
    "        graph.add_node(\"action\", self.take_action)\n",
    "        graph.add_conditional_edges(\"llm\", self.exists_action, {True: \"action\", False: END})\n",
    "        graph.add_edge(\"action\", \"llm\")\n",
    "        graph.set_entry_point(\"llm\")\n",
    "        self.graph = graph.compile(\n",
    "            checkpointer=checkpointer,\n",
    "            interrupt_before=[\"action\"] # add this interrupt for human input before taking an action\n",
    "        )\n",
    "        self.tools = {t.name: t for t in tools}\n",
    "        self.model = model.bind_tools(tools)\n",
    "\n",
    "    def call_openai(self, state: AgentState):\n",
    "        messages = state['messages']\n",
    "        if self.system:\n",
    "            messages = [SystemMessage(content=self.system)] + messages\n",
    "        message = self.model.invoke(messages)\n",
    "        return {'messages': [message]}\n",
    "\n",
    "    def exists_action(self, state: AgentState):\n",
    "        print(state)\n",
    "        result = state['messages'][-1]\n",
    "        return len(result.tool_calls) > 0\n",
    "\n",
    "    def take_action(self, state: AgentState):\n",
    "        tool_calls = state['messages'][-1].tool_calls\n",
    "        results = []\n",
    "        for t in tool_calls:\n",
    "            print(f\"Calling: {t}\")\n",
    "            result = self.tools[t['name']].invoke(t['args'])\n",
    "            results.append(ToolMessage(tool_call_id=t['id'], name=t['name'], content=str(result)))\n",
    "        print(\"Back to the model!\")\n",
    "        return {'messages': results}"
   ]
  },
  {
   "cell_type": "markdown",
   "metadata": {},
   "source": [
    "# Using the Agent"
   ]
  },
  {
   "cell_type": "code",
   "execution_count": 6,
   "metadata": {},
   "outputs": [],
   "source": [
    "prompt = \"\"\"You are a smart research assistant. Use the search engine to look up information. \\\n",
    "You are allowed to make multiple calls (either together or in sequence). \\\n",
    "Only look up information when you are sure of what you want. \\\n",
    "If you need to look up some information before asking a follow up question, you are allowed to do that!\n",
    "\"\"\"\n",
    "model = ChatOpenAI(model=\"gpt-3.5-turbo\")\n",
    "abot = Agent(model, [tool], system=prompt, checkpointer=memory)"
   ]
  },
  {
   "cell_type": "code",
   "execution_count": 7,
   "metadata": {},
   "outputs": [
    {
     "name": "stdout",
     "output_type": "stream",
     "text": [
      "{'messages': [HumanMessage(content='Whats the weather in SF?', id='bb2b0aab-06d4-4a3b-b93a-faa4bc195b70'), AIMessage(content='', additional_kwargs={'tool_calls': [{'id': 'call_rvGrNsVdw44vbZHeDTERfceN', 'function': {'arguments': '{\"query\":\"weather in San Francisco\"}', 'name': 'tavily_search_results_json'}, 'type': 'function'}]}, response_metadata={'token_usage': {'completion_tokens': 22, 'prompt_tokens': 152, 'total_tokens': 174, 'prompt_tokens_details': {'cached_tokens': 0, 'audio_tokens': 0}, 'completion_tokens_details': {'reasoning_tokens': 0, 'audio_tokens': 0, 'accepted_prediction_tokens': 0, 'rejected_prediction_tokens': 0}}, 'model_name': 'gpt-3.5-turbo', 'system_fingerprint': None, 'finish_reason': 'tool_calls', 'logprobs': None}, id='run-34ea33ad-46c2-4dd8-a0a1-bc495c82b779-0', tool_calls=[{'name': 'tavily_search_results_json', 'args': {'query': 'weather in San Francisco'}, 'id': 'call_rvGrNsVdw44vbZHeDTERfceN'}])]}\n",
      "{'messages': [AIMessage(content='', additional_kwargs={'tool_calls': [{'id': 'call_rvGrNsVdw44vbZHeDTERfceN', 'function': {'arguments': '{\"query\":\"weather in San Francisco\"}', 'name': 'tavily_search_results_json'}, 'type': 'function'}]}, response_metadata={'token_usage': {'completion_tokens': 22, 'prompt_tokens': 152, 'total_tokens': 174, 'prompt_tokens_details': {'cached_tokens': 0, 'audio_tokens': 0}, 'completion_tokens_details': {'reasoning_tokens': 0, 'audio_tokens': 0, 'accepted_prediction_tokens': 0, 'rejected_prediction_tokens': 0}}, 'model_name': 'gpt-3.5-turbo', 'system_fingerprint': None, 'finish_reason': 'tool_calls', 'logprobs': None}, id='run-34ea33ad-46c2-4dd8-a0a1-bc495c82b779-0', tool_calls=[{'name': 'tavily_search_results_json', 'args': {'query': 'weather in San Francisco'}, 'id': 'call_rvGrNsVdw44vbZHeDTERfceN'}])]}\n"
     ]
    }
   ],
   "source": [
    "messages = [HumanMessage(content=\"Whats the weather in SF?\")]\n",
    "thread = {\"configurable\": {\"thread_id\": \"1\"}}\n",
    "for event in abot.graph.stream({\"messages\": messages}, thread):\n",
    "    for v in event.values():\n",
    "        print(v)"
   ]
  },
  {
   "cell_type": "code",
   "execution_count": 8,
   "metadata": {},
   "outputs": [
    {
     "data": {
      "text/plain": [
       "StateSnapshot(values={'messages': [HumanMessage(content='Whats the weather in SF?', id='bb2b0aab-06d4-4a3b-b93a-faa4bc195b70'), AIMessage(content='', additional_kwargs={'tool_calls': [{'function': {'arguments': '{\"query\":\"weather in San Francisco\"}', 'name': 'tavily_search_results_json'}, 'id': 'call_rvGrNsVdw44vbZHeDTERfceN', 'type': 'function'}]}, response_metadata={'finish_reason': 'tool_calls', 'logprobs': None, 'model_name': 'gpt-3.5-turbo', 'system_fingerprint': None, 'token_usage': {'completion_tokens': 22, 'completion_tokens_details': {'accepted_prediction_tokens': 0, 'audio_tokens': 0, 'reasoning_tokens': 0, 'rejected_prediction_tokens': 0}, 'prompt_tokens': 152, 'prompt_tokens_details': {'audio_tokens': 0, 'cached_tokens': 0}, 'total_tokens': 174}}, id='run-34ea33ad-46c2-4dd8-a0a1-bc495c82b779-0', tool_calls=[{'name': 'tavily_search_results_json', 'args': {'query': 'weather in San Francisco'}, 'id': 'call_rvGrNsVdw44vbZHeDTERfceN'}])]}, next=('action',), config={'configurable': {'thread_id': '1', 'thread_ts': '1eff6c4d-2881-6994-8001-9b1370f7b263'}}, metadata={'source': 'loop', 'step': 1, 'writes': {'llm': {'messages': [AIMessage(content='', additional_kwargs={'tool_calls': [{'function': {'arguments': '{\"query\":\"weather in San Francisco\"}', 'name': 'tavily_search_results_json'}, 'id': 'call_rvGrNsVdw44vbZHeDTERfceN', 'type': 'function'}]}, response_metadata={'finish_reason': 'tool_calls', 'logprobs': None, 'model_name': 'gpt-3.5-turbo', 'system_fingerprint': None, 'token_usage': {'completion_tokens': 22, 'completion_tokens_details': {'accepted_prediction_tokens': 0, 'audio_tokens': 0, 'reasoning_tokens': 0, 'rejected_prediction_tokens': 0}, 'prompt_tokens': 152, 'prompt_tokens_details': {'audio_tokens': 0, 'cached_tokens': 0}, 'total_tokens': 174}}, id='run-34ea33ad-46c2-4dd8-a0a1-bc495c82b779-0', tool_calls=[{'name': 'tavily_search_results_json', 'args': {'query': 'weather in San Francisco'}, 'id': 'call_rvGrNsVdw44vbZHeDTERfceN'}])]}}}, created_at='2025-03-01T17:44:27.793243+00:00', parent_config={'configurable': {'thread_id': '1', 'thread_ts': '1eff6c4d-2386-6436-8000-8d4129f4637c'}})"
      ]
     },
     "execution_count": 8,
     "metadata": {},
     "output_type": "execute_result"
    }
   ],
   "source": [
    "abot.graph.get_state(thread)"
   ]
  },
  {
   "cell_type": "code",
   "execution_count": 9,
   "metadata": {},
   "outputs": [
    {
     "data": {
      "text/plain": [
       "('action',)"
      ]
     },
     "execution_count": 9,
     "metadata": {},
     "output_type": "execute_result"
    }
   ],
   "source": [
    "abot.graph.get_state(thread).next"
   ]
  },
  {
   "cell_type": "markdown",
   "metadata": {},
   "source": [
    "# Continuing Usage After Interrupt"
   ]
  },
  {
   "cell_type": "code",
   "execution_count": null,
   "metadata": {},
   "outputs": [
    {
     "name": "stdout",
     "output_type": "stream",
     "text": [
      "Calling: {'name': 'tavily_search_results_json', 'args': {'query': 'weather in San Francisco'}, 'id': 'call_rvGrNsVdw44vbZHeDTERfceN'}\n",
      "Back to the model!\n",
      "{'messages': [ToolMessage(content='[{\\'url\\': \\'https://www.weatherapi.com/\\', \\'content\\': \"{\\'location\\': {\\'name\\': \\'San Francisco\\', \\'region\\': \\'California\\', \\'country\\': \\'United States of America\\', \\'lat\\': 37.775, \\'lon\\': -122.4183, \\'tz_id\\': \\'America/Los_Angeles\\', \\'localtime_epoch\\': 1740850123, \\'localtime\\': \\'2025-03-01 09:28\\'}, \\'current\\': {\\'last_updated_epoch\\': 1740849300, \\'last_updated\\': \\'2025-03-01 09:15\\', \\'temp_c\\': 11.1, \\'temp_f\\': 52.0, \\'is_day\\': 1, \\'condition\\': {\\'text\\': \\'Overcast\\', \\'icon\\': \\'//cdn.weatherapi.com/weather/64x64/day/122.png\\', \\'code\\': 1009}, \\'wind_mph\\': 3.6, \\'wind_kph\\': 5.8, \\'wind_degree\\': 221, \\'wind_dir\\': \\'SW\\', \\'pressure_mb\\': 1016.0, \\'pressure_in\\': 30.0, \\'precip_mm\\': 0.0, \\'precip_in\\': 0.0, \\'humidity\\': 80, \\'cloud\\': 100, \\'feelslike_c\\': 10.8, \\'feelslike_f\\': 51.4, \\'windchill_c\\': 6.5, \\'windchill_f\\': 43.8, \\'heatindex_c\\': 8.3, \\'heatindex_f\\': 47.0, \\'dewpoint_c\\': 7.8, \\'dewpoint_f\\': 46.1, \\'vis_km\\': 16.0, \\'vis_miles\\': 9.0, \\'uv\\': 1.5, \\'gust_mph\\': 5.0, \\'gust_kph\\': 8.0}}\"}, {\\'url\\': \\'https://weathershogun.com/weather/usa/ca/san-francisco/480/march/2025-03-01\\', \\'content\\': \"San Francisco, CA - Weather Forecast Today San Francisco, CA Home Contact Browse States Privacy Policy Terms and Conditions °F)°C) Today Tomorrow Hourly 7 days 30 days March Today | Weather | Saturday, March 1, 2025 Beach Hazards Statement (Potential hazards at beaches, such as dangerous currents, high surf, or unexpected waves.) High Surf Advisory (Warning for dangerously high waves affecting beach and coastal safety) San Francisco, California. 52° F Feels Like 46° Precipitation 40 % Wind 8 mph Today Day 59° Night 50° San Francisco Weather Forecast Updated Last updated on March 01, 2025 12:01 AM Hourly Tomorrow 7 days 30 days Weather Forecast History Last Year\\'s Weather on This Day (March 1, 2024) Day 57° Night 50°\"}]', name='tavily_search_results_json', id='9ba1542c-2de7-4544-9ff3-f4e5a2c6c946', tool_call_id='call_rvGrNsVdw44vbZHeDTERfceN')]}\n",
      "{'messages': [HumanMessage(content='Whats the weather in SF?', id='bb2b0aab-06d4-4a3b-b93a-faa4bc195b70'), AIMessage(content='', additional_kwargs={'tool_calls': [{'function': {'arguments': '{\"query\":\"weather in San Francisco\"}', 'name': 'tavily_search_results_json'}, 'id': 'call_rvGrNsVdw44vbZHeDTERfceN', 'type': 'function'}]}, response_metadata={'finish_reason': 'tool_calls', 'logprobs': None, 'model_name': 'gpt-3.5-turbo', 'system_fingerprint': None, 'token_usage': {'completion_tokens': 22, 'completion_tokens_details': {'accepted_prediction_tokens': 0, 'audio_tokens': 0, 'reasoning_tokens': 0, 'rejected_prediction_tokens': 0}, 'prompt_tokens': 152, 'prompt_tokens_details': {'audio_tokens': 0, 'cached_tokens': 0}, 'total_tokens': 174}}, id='run-34ea33ad-46c2-4dd8-a0a1-bc495c82b779-0', tool_calls=[{'name': 'tavily_search_results_json', 'args': {'query': 'weather in San Francisco'}, 'id': 'call_rvGrNsVdw44vbZHeDTERfceN'}]), ToolMessage(content='[{\\'url\\': \\'https://www.weatherapi.com/\\', \\'content\\': \"{\\'location\\': {\\'name\\': \\'San Francisco\\', \\'region\\': \\'California\\', \\'country\\': \\'United States of America\\', \\'lat\\': 37.775, \\'lon\\': -122.4183, \\'tz_id\\': \\'America/Los_Angeles\\', \\'localtime_epoch\\': 1740850123, \\'localtime\\': \\'2025-03-01 09:28\\'}, \\'current\\': {\\'last_updated_epoch\\': 1740849300, \\'last_updated\\': \\'2025-03-01 09:15\\', \\'temp_c\\': 11.1, \\'temp_f\\': 52.0, \\'is_day\\': 1, \\'condition\\': {\\'text\\': \\'Overcast\\', \\'icon\\': \\'//cdn.weatherapi.com/weather/64x64/day/122.png\\', \\'code\\': 1009}, \\'wind_mph\\': 3.6, \\'wind_kph\\': 5.8, \\'wind_degree\\': 221, \\'wind_dir\\': \\'SW\\', \\'pressure_mb\\': 1016.0, \\'pressure_in\\': 30.0, \\'precip_mm\\': 0.0, \\'precip_in\\': 0.0, \\'humidity\\': 80, \\'cloud\\': 100, \\'feelslike_c\\': 10.8, \\'feelslike_f\\': 51.4, \\'windchill_c\\': 6.5, \\'windchill_f\\': 43.8, \\'heatindex_c\\': 8.3, \\'heatindex_f\\': 47.0, \\'dewpoint_c\\': 7.8, \\'dewpoint_f\\': 46.1, \\'vis_km\\': 16.0, \\'vis_miles\\': 9.0, \\'uv\\': 1.5, \\'gust_mph\\': 5.0, \\'gust_kph\\': 8.0}}\"}, {\\'url\\': \\'https://weathershogun.com/weather/usa/ca/san-francisco/480/march/2025-03-01\\', \\'content\\': \"San Francisco, CA - Weather Forecast Today San Francisco, CA Home Contact Browse States Privacy Policy Terms and Conditions °F)°C) Today Tomorrow Hourly 7 days 30 days March Today | Weather | Saturday, March 1, 2025 Beach Hazards Statement (Potential hazards at beaches, such as dangerous currents, high surf, or unexpected waves.) High Surf Advisory (Warning for dangerously high waves affecting beach and coastal safety) San Francisco, California. 52° F Feels Like 46° Precipitation 40 % Wind 8 mph Today Day 59° Night 50° San Francisco Weather Forecast Updated Last updated on March 01, 2025 12:01 AM Hourly Tomorrow 7 days 30 days Weather Forecast History Last Year\\'s Weather on This Day (March 1, 2024) Day 57° Night 50°\"}]', name='tavily_search_results_json', id='9ba1542c-2de7-4544-9ff3-f4e5a2c6c946', tool_call_id='call_rvGrNsVdw44vbZHeDTERfceN'), AIMessage(content='The current weather in San Francisco is as follows:\\n- Temperature: 52.0°F (11.1°C)\\n- Condition: Overcast\\n- Wind: 3.6 mph (5.8 kph) from the SW\\n- Humidity: 80%\\n- Visibility: 9.0 miles (16.0 km)\\n\\nFor more detailed information, you can visit [Weather API](https://www.weatherapi.com/).', response_metadata={'token_usage': {'completion_tokens': 92, 'prompt_tokens': 809, 'total_tokens': 901, 'prompt_tokens_details': {'cached_tokens': 0, 'audio_tokens': 0}, 'completion_tokens_details': {'reasoning_tokens': 0, 'audio_tokens': 0, 'accepted_prediction_tokens': 0, 'rejected_prediction_tokens': 0}}, 'model_name': 'gpt-3.5-turbo', 'system_fingerprint': None, 'finish_reason': 'stop', 'logprobs': None}, id='run-c33fc1ef-0d5a-471a-98d7-1762f87a75fb-0')]}\n",
      "{'messages': [AIMessage(content='The current weather in San Francisco is as follows:\\n- Temperature: 52.0°F (11.1°C)\\n- Condition: Overcast\\n- Wind: 3.6 mph (5.8 kph) from the SW\\n- Humidity: 80%\\n- Visibility: 9.0 miles (16.0 km)\\n\\nFor more detailed information, you can visit [Weather API](https://www.weatherapi.com/).', response_metadata={'token_usage': {'completion_tokens': 92, 'prompt_tokens': 809, 'total_tokens': 901, 'prompt_tokens_details': {'cached_tokens': 0, 'audio_tokens': 0}, 'completion_tokens_details': {'reasoning_tokens': 0, 'audio_tokens': 0, 'accepted_prediction_tokens': 0, 'rejected_prediction_tokens': 0}}, 'model_name': 'gpt-3.5-turbo', 'system_fingerprint': None, 'finish_reason': 'stop', 'logprobs': None}, id='run-c33fc1ef-0d5a-471a-98d7-1762f87a75fb-0')]}\n"
     ]
    }
   ],
   "source": [
    "# Pass 'None' after interrupt\n",
    "for event in abot.graph.stream(None, thread):\n",
    "    for v in event.values():\n",
    "        print(v)"
   ]
  },
  {
   "cell_type": "code",
   "execution_count": 11,
   "metadata": {},
   "outputs": [
    {
     "data": {
      "text/plain": [
       "StateSnapshot(values={'messages': [HumanMessage(content='Whats the weather in SF?', id='bb2b0aab-06d4-4a3b-b93a-faa4bc195b70'), AIMessage(content='', additional_kwargs={'tool_calls': [{'function': {'arguments': '{\"query\":\"weather in San Francisco\"}', 'name': 'tavily_search_results_json'}, 'id': 'call_rvGrNsVdw44vbZHeDTERfceN', 'type': 'function'}]}, response_metadata={'finish_reason': 'tool_calls', 'logprobs': None, 'model_name': 'gpt-3.5-turbo', 'system_fingerprint': None, 'token_usage': {'completion_tokens': 22, 'completion_tokens_details': {'accepted_prediction_tokens': 0, 'audio_tokens': 0, 'reasoning_tokens': 0, 'rejected_prediction_tokens': 0}, 'prompt_tokens': 152, 'prompt_tokens_details': {'audio_tokens': 0, 'cached_tokens': 0}, 'total_tokens': 174}}, id='run-34ea33ad-46c2-4dd8-a0a1-bc495c82b779-0', tool_calls=[{'name': 'tavily_search_results_json', 'args': {'query': 'weather in San Francisco'}, 'id': 'call_rvGrNsVdw44vbZHeDTERfceN'}]), ToolMessage(content='[{\\'url\\': \\'https://www.weatherapi.com/\\', \\'content\\': \"{\\'location\\': {\\'name\\': \\'San Francisco\\', \\'region\\': \\'California\\', \\'country\\': \\'United States of America\\', \\'lat\\': 37.775, \\'lon\\': -122.4183, \\'tz_id\\': \\'America/Los_Angeles\\', \\'localtime_epoch\\': 1740850123, \\'localtime\\': \\'2025-03-01 09:28\\'}, \\'current\\': {\\'last_updated_epoch\\': 1740849300, \\'last_updated\\': \\'2025-03-01 09:15\\', \\'temp_c\\': 11.1, \\'temp_f\\': 52.0, \\'is_day\\': 1, \\'condition\\': {\\'text\\': \\'Overcast\\', \\'icon\\': \\'//cdn.weatherapi.com/weather/64x64/day/122.png\\', \\'code\\': 1009}, \\'wind_mph\\': 3.6, \\'wind_kph\\': 5.8, \\'wind_degree\\': 221, \\'wind_dir\\': \\'SW\\', \\'pressure_mb\\': 1016.0, \\'pressure_in\\': 30.0, \\'precip_mm\\': 0.0, \\'precip_in\\': 0.0, \\'humidity\\': 80, \\'cloud\\': 100, \\'feelslike_c\\': 10.8, \\'feelslike_f\\': 51.4, \\'windchill_c\\': 6.5, \\'windchill_f\\': 43.8, \\'heatindex_c\\': 8.3, \\'heatindex_f\\': 47.0, \\'dewpoint_c\\': 7.8, \\'dewpoint_f\\': 46.1, \\'vis_km\\': 16.0, \\'vis_miles\\': 9.0, \\'uv\\': 1.5, \\'gust_mph\\': 5.0, \\'gust_kph\\': 8.0}}\"}, {\\'url\\': \\'https://weathershogun.com/weather/usa/ca/san-francisco/480/march/2025-03-01\\', \\'content\\': \"San Francisco, CA - Weather Forecast Today San Francisco, CA Home Contact Browse States Privacy Policy Terms and Conditions °F)°C) Today Tomorrow Hourly 7 days 30 days March Today | Weather | Saturday, March 1, 2025 Beach Hazards Statement (Potential hazards at beaches, such as dangerous currents, high surf, or unexpected waves.) High Surf Advisory (Warning for dangerously high waves affecting beach and coastal safety) San Francisco, California. 52° F Feels Like 46° Precipitation 40 % Wind 8 mph Today Day 59° Night 50° San Francisco Weather Forecast Updated Last updated on March 01, 2025 12:01 AM Hourly Tomorrow 7 days 30 days Weather Forecast History Last Year\\'s Weather on This Day (March 1, 2024) Day 57° Night 50°\"}]', name='tavily_search_results_json', id='9ba1542c-2de7-4544-9ff3-f4e5a2c6c946', tool_call_id='call_rvGrNsVdw44vbZHeDTERfceN'), AIMessage(content='The current weather in San Francisco is as follows:\\n- Temperature: 52.0°F (11.1°C)\\n- Condition: Overcast\\n- Wind: 3.6 mph (5.8 kph) from the SW\\n- Humidity: 80%\\n- Visibility: 9.0 miles (16.0 km)\\n\\nFor more detailed information, you can visit [Weather API](https://www.weatherapi.com/).', response_metadata={'finish_reason': 'stop', 'logprobs': None, 'model_name': 'gpt-3.5-turbo', 'system_fingerprint': None, 'token_usage': {'completion_tokens': 92, 'completion_tokens_details': {'accepted_prediction_tokens': 0, 'audio_tokens': 0, 'reasoning_tokens': 0, 'rejected_prediction_tokens': 0}, 'prompt_tokens': 809, 'prompt_tokens_details': {'audio_tokens': 0, 'cached_tokens': 0}, 'total_tokens': 901}}, id='run-c33fc1ef-0d5a-471a-98d7-1762f87a75fb-0')]}, next=(), config={'configurable': {'thread_id': '1', 'thread_ts': '1eff6c53-0da4-6ff1-8003-66f39bcba12d'}}, metadata={'source': 'loop', 'step': 3, 'writes': {'llm': {'messages': [AIMessage(content='The current weather in San Francisco is as follows:\\n- Temperature: 52.0°F (11.1°C)\\n- Condition: Overcast\\n- Wind: 3.6 mph (5.8 kph) from the SW\\n- Humidity: 80%\\n- Visibility: 9.0 miles (16.0 km)\\n\\nFor more detailed information, you can visit [Weather API](https://www.weatherapi.com/).', response_metadata={'finish_reason': 'stop', 'logprobs': None, 'model_name': 'gpt-3.5-turbo', 'system_fingerprint': None, 'token_usage': {'completion_tokens': 92, 'completion_tokens_details': {'accepted_prediction_tokens': 0, 'audio_tokens': 0, 'reasoning_tokens': 0, 'rejected_prediction_tokens': 0}, 'prompt_tokens': 809, 'prompt_tokens_details': {'audio_tokens': 0, 'cached_tokens': 0}, 'total_tokens': 901}}, id='run-c33fc1ef-0d5a-471a-98d7-1762f87a75fb-0')]}}}, created_at='2025-03-01T17:47:06.037860+00:00', parent_config={'configurable': {'thread_id': '1', 'thread_ts': '1eff6c53-0359-68b5-8002-194b5a08ee0d'}})"
      ]
     },
     "execution_count": 11,
     "metadata": {},
     "output_type": "execute_result"
    }
   ],
   "source": [
    "abot.graph.get_state(thread)"
   ]
  },
  {
   "cell_type": "code",
   "execution_count": 12,
   "metadata": {},
   "outputs": [
    {
     "data": {
      "text/plain": [
       "()"
      ]
     },
     "execution_count": 12,
     "metadata": {},
     "output_type": "execute_result"
    }
   ],
   "source": [
    "abot.graph.get_state(thread).next"
   ]
  },
  {
   "cell_type": "code",
   "execution_count": 13,
   "metadata": {},
   "outputs": [
    {
     "name": "stdout",
     "output_type": "stream",
     "text": [
      "{'messages': [HumanMessage(content='Whats the weather in LA?', id='26790bbe-941e-443a-b268-c61e91090f24'), AIMessage(content='', additional_kwargs={'tool_calls': [{'id': 'call_YMo8XC2bIpNxtTsHiG9LChm2', 'function': {'arguments': '{\"query\":\"weather in Los Angeles\"}', 'name': 'tavily_search_results_json'}, 'type': 'function'}]}, response_metadata={'token_usage': {'completion_tokens': 22, 'prompt_tokens': 152, 'total_tokens': 174, 'prompt_tokens_details': {'cached_tokens': 0, 'audio_tokens': 0}, 'completion_tokens_details': {'reasoning_tokens': 0, 'audio_tokens': 0, 'accepted_prediction_tokens': 0, 'rejected_prediction_tokens': 0}}, 'model_name': 'gpt-3.5-turbo', 'system_fingerprint': None, 'finish_reason': 'tool_calls', 'logprobs': None}, id='run-efa93938-dfed-49cb-a85c-fd234ae39151-0', tool_calls=[{'name': 'tavily_search_results_json', 'args': {'query': 'weather in Los Angeles'}, 'id': 'call_YMo8XC2bIpNxtTsHiG9LChm2'}])]}\n",
      "{'messages': [AIMessage(content='', additional_kwargs={'tool_calls': [{'id': 'call_YMo8XC2bIpNxtTsHiG9LChm2', 'function': {'arguments': '{\"query\":\"weather in Los Angeles\"}', 'name': 'tavily_search_results_json'}, 'type': 'function'}]}, response_metadata={'token_usage': {'completion_tokens': 22, 'prompt_tokens': 152, 'total_tokens': 174, 'prompt_tokens_details': {'cached_tokens': 0, 'audio_tokens': 0}, 'completion_tokens_details': {'reasoning_tokens': 0, 'audio_tokens': 0, 'accepted_prediction_tokens': 0, 'rejected_prediction_tokens': 0}}, 'model_name': 'gpt-3.5-turbo', 'system_fingerprint': None, 'finish_reason': 'tool_calls', 'logprobs': None}, id='run-efa93938-dfed-49cb-a85c-fd234ae39151-0', tool_calls=[{'name': 'tavily_search_results_json', 'args': {'query': 'weather in Los Angeles'}, 'id': 'call_YMo8XC2bIpNxtTsHiG9LChm2'}])]}\n",
      "\n",
      " StateSnapshot(values={'messages': [HumanMessage(content='Whats the weather in LA?', id='26790bbe-941e-443a-b268-c61e91090f24'), AIMessage(content='', additional_kwargs={'tool_calls': [{'function': {'arguments': '{\"query\":\"weather in Los Angeles\"}', 'name': 'tavily_search_results_json'}, 'id': 'call_YMo8XC2bIpNxtTsHiG9LChm2', 'type': 'function'}]}, response_metadata={'finish_reason': 'tool_calls', 'logprobs': None, 'model_name': 'gpt-3.5-turbo', 'system_fingerprint': None, 'token_usage': {'completion_tokens': 22, 'completion_tokens_details': {'accepted_prediction_tokens': 0, 'audio_tokens': 0, 'reasoning_tokens': 0, 'rejected_prediction_tokens': 0}, 'prompt_tokens': 152, 'prompt_tokens_details': {'audio_tokens': 0, 'cached_tokens': 0}, 'total_tokens': 174}}, id='run-efa93938-dfed-49cb-a85c-fd234ae39151-0', tool_calls=[{'name': 'tavily_search_results_json', 'args': {'query': 'weather in Los Angeles'}, 'id': 'call_YMo8XC2bIpNxtTsHiG9LChm2'}])]}, next=('action',), config={'configurable': {'thread_id': '2', 'thread_ts': '1eff6c57-57cb-68b7-8001-4ff5d954319b'}}, metadata={'source': 'loop', 'step': 1, 'writes': {'llm': {'messages': [AIMessage(content='', additional_kwargs={'tool_calls': [{'function': {'arguments': '{\"query\":\"weather in Los Angeles\"}', 'name': 'tavily_search_results_json'}, 'id': 'call_YMo8XC2bIpNxtTsHiG9LChm2', 'type': 'function'}]}, response_metadata={'finish_reason': 'tool_calls', 'logprobs': None, 'model_name': 'gpt-3.5-turbo', 'system_fingerprint': None, 'token_usage': {'completion_tokens': 22, 'completion_tokens_details': {'accepted_prediction_tokens': 0, 'audio_tokens': 0, 'reasoning_tokens': 0, 'rejected_prediction_tokens': 0}, 'prompt_tokens': 152, 'prompt_tokens_details': {'audio_tokens': 0, 'cached_tokens': 0}, 'total_tokens': 174}}, id='run-efa93938-dfed-49cb-a85c-fd234ae39151-0', tool_calls=[{'name': 'tavily_search_results_json', 'args': {'query': 'weather in Los Angeles'}, 'id': 'call_YMo8XC2bIpNxtTsHiG9LChm2'}])]}}}, created_at='2025-03-01T17:49:01.186295+00:00', parent_config={'configurable': {'thread_id': '2', 'thread_ts': '1eff6c57-5269-63c7-8000-aa317ff3ca9a'}}) \n",
      "\n",
      "Calling: {'name': 'tavily_search_results_json', 'args': {'query': 'weather in Los Angeles'}, 'id': 'call_YMo8XC2bIpNxtTsHiG9LChm2'}\n",
      "Back to the model!\n",
      "{'messages': [ToolMessage(content='[{\\'url\\': \\'https://www.weatherapi.com/\\', \\'content\\': \"{\\'location\\': {\\'name\\': \\'Los Angeles\\', \\'region\\': \\'California\\', \\'country\\': \\'United States of America\\', \\'lat\\': 34.0522, \\'lon\\': -118.2428, \\'tz_id\\': \\'America/Los_Angeles\\', \\'localtime_epoch\\': 1740851345, \\'localtime\\': \\'2025-03-01 09:49\\'}, \\'current\\': {\\'last_updated_epoch\\': 1740851100, \\'last_updated\\': \\'2025-03-01 09:45\\', \\'temp_c\\': 15.3, \\'temp_f\\': 59.5, \\'is_day\\': 1, \\'condition\\': {\\'text\\': \\'Overcast\\', \\'icon\\': \\'//cdn.weatherapi.com/weather/64x64/day/122.png\\', \\'code\\': 1009}, \\'wind_mph\\': 3.6, \\'wind_kph\\': 5.8, \\'wind_degree\\': 233, \\'wind_dir\\': \\'SW\\', \\'pressure_mb\\': 1016.0, \\'pressure_in\\': 29.99, \\'precip_mm\\': 0.0, \\'precip_in\\': 0.0, \\'humidity\\': 72, \\'cloud\\': 100, \\'feelslike_c\\': 15.3, \\'feelslike_f\\': 59.5, \\'windchill_c\\': 12.0, \\'windchill_f\\': 53.6, \\'heatindex_c\\': 12.0, \\'heatindex_f\\': 53.6, \\'dewpoint_c\\': 11.2, \\'dewpoint_f\\': 52.1, \\'vis_km\\': 16.0, \\'vis_miles\\': 9.0, \\'uv\\': 2.0, \\'gust_mph\\': 4.2, \\'gust_kph\\': 6.7}}\"}, {\\'url\\': \\'https://www.accuweather.com/en/us/los-angeles/90012/current-weather/347625\\', \\'content\\': \"Los Angeles, CA Current Weather | AccuWeather Cool; cloudy this morning, then times of clouds and sun this afternoon Winter Weather Quick-hitting weekend storm to bring another blow to Northeast 4 hours ago Travel Cessna reported missing over Alaska with 10 on board, officials say 4 hours ago Weather Forecasts Spring forecast 2025: US faces split between warmups, lingering chill 2 days ago Winter Weather Winter storms to rage on across the nation early next week 4 hours ago Astronomy Mercury is about to join the planetary parade, but there\\'s a catch 1 day ago  More Stories AccuWeather Ready Business Health Hurricane Leisure and Recreation Severe Weather Space and Astronomy Sports Travel Weather News Winter Center AccuWeather Ready Business Health Hurricane Leisure and Recreation Severe Weather Space and Astronomy Sports Travel Weather News Winter Center\"}]', name='tavily_search_results_json', id='73dc55ec-8fb4-4c32-873a-6bc9e6e4a228', tool_call_id='call_YMo8XC2bIpNxtTsHiG9LChm2')]}\n",
      "{'messages': [HumanMessage(content='Whats the weather in LA?', id='26790bbe-941e-443a-b268-c61e91090f24'), AIMessage(content='', additional_kwargs={'tool_calls': [{'function': {'arguments': '{\"query\":\"weather in Los Angeles\"}', 'name': 'tavily_search_results_json'}, 'id': 'call_YMo8XC2bIpNxtTsHiG9LChm2', 'type': 'function'}]}, response_metadata={'finish_reason': 'tool_calls', 'logprobs': None, 'model_name': 'gpt-3.5-turbo', 'system_fingerprint': None, 'token_usage': {'completion_tokens': 22, 'completion_tokens_details': {'accepted_prediction_tokens': 0, 'audio_tokens': 0, 'reasoning_tokens': 0, 'rejected_prediction_tokens': 0}, 'prompt_tokens': 152, 'prompt_tokens_details': {'audio_tokens': 0, 'cached_tokens': 0}, 'total_tokens': 174}}, id='run-efa93938-dfed-49cb-a85c-fd234ae39151-0', tool_calls=[{'name': 'tavily_search_results_json', 'args': {'query': 'weather in Los Angeles'}, 'id': 'call_YMo8XC2bIpNxtTsHiG9LChm2'}]), ToolMessage(content='[{\\'url\\': \\'https://www.weatherapi.com/\\', \\'content\\': \"{\\'location\\': {\\'name\\': \\'Los Angeles\\', \\'region\\': \\'California\\', \\'country\\': \\'United States of America\\', \\'lat\\': 34.0522, \\'lon\\': -118.2428, \\'tz_id\\': \\'America/Los_Angeles\\', \\'localtime_epoch\\': 1740851345, \\'localtime\\': \\'2025-03-01 09:49\\'}, \\'current\\': {\\'last_updated_epoch\\': 1740851100, \\'last_updated\\': \\'2025-03-01 09:45\\', \\'temp_c\\': 15.3, \\'temp_f\\': 59.5, \\'is_day\\': 1, \\'condition\\': {\\'text\\': \\'Overcast\\', \\'icon\\': \\'//cdn.weatherapi.com/weather/64x64/day/122.png\\', \\'code\\': 1009}, \\'wind_mph\\': 3.6, \\'wind_kph\\': 5.8, \\'wind_degree\\': 233, \\'wind_dir\\': \\'SW\\', \\'pressure_mb\\': 1016.0, \\'pressure_in\\': 29.99, \\'precip_mm\\': 0.0, \\'precip_in\\': 0.0, \\'humidity\\': 72, \\'cloud\\': 100, \\'feelslike_c\\': 15.3, \\'feelslike_f\\': 59.5, \\'windchill_c\\': 12.0, \\'windchill_f\\': 53.6, \\'heatindex_c\\': 12.0, \\'heatindex_f\\': 53.6, \\'dewpoint_c\\': 11.2, \\'dewpoint_f\\': 52.1, \\'vis_km\\': 16.0, \\'vis_miles\\': 9.0, \\'uv\\': 2.0, \\'gust_mph\\': 4.2, \\'gust_kph\\': 6.7}}\"}, {\\'url\\': \\'https://www.accuweather.com/en/us/los-angeles/90012/current-weather/347625\\', \\'content\\': \"Los Angeles, CA Current Weather | AccuWeather Cool; cloudy this morning, then times of clouds and sun this afternoon Winter Weather Quick-hitting weekend storm to bring another blow to Northeast 4 hours ago Travel Cessna reported missing over Alaska with 10 on board, officials say 4 hours ago Weather Forecasts Spring forecast 2025: US faces split between warmups, lingering chill 2 days ago Winter Weather Winter storms to rage on across the nation early next week 4 hours ago Astronomy Mercury is about to join the planetary parade, but there\\'s a catch 1 day ago  More Stories AccuWeather Ready Business Health Hurricane Leisure and Recreation Severe Weather Space and Astronomy Sports Travel Weather News Winter Center AccuWeather Ready Business Health Hurricane Leisure and Recreation Severe Weather Space and Astronomy Sports Travel Weather News Winter Center\"}]', name='tavily_search_results_json', id='73dc55ec-8fb4-4c32-873a-6bc9e6e4a228', tool_call_id='call_YMo8XC2bIpNxtTsHiG9LChm2'), AIMessage(content='The current weather in Los Angeles is overcast with a temperature of 59.5°F (15.3°C). The wind speed is 3.6 mph (5.8 km/h) from the southwest direction. The humidity is at 72%, and the visibility is 9.0 miles.', response_metadata={'token_usage': {'completion_tokens': 64, 'prompt_tokens': 794, 'total_tokens': 858, 'prompt_tokens_details': {'cached_tokens': 0, 'audio_tokens': 0}, 'completion_tokens_details': {'reasoning_tokens': 0, 'audio_tokens': 0, 'accepted_prediction_tokens': 0, 'rejected_prediction_tokens': 0}}, 'model_name': 'gpt-3.5-turbo', 'system_fingerprint': None, 'finish_reason': 'stop', 'logprobs': None}, id='run-7a22aaef-d162-4ebb-bea2-334056b141eb-0')]}\n",
      "{'messages': [AIMessage(content='The current weather in Los Angeles is overcast with a temperature of 59.5°F (15.3°C). The wind speed is 3.6 mph (5.8 km/h) from the southwest direction. The humidity is at 72%, and the visibility is 9.0 miles.', response_metadata={'token_usage': {'completion_tokens': 64, 'prompt_tokens': 794, 'total_tokens': 858, 'prompt_tokens_details': {'cached_tokens': 0, 'audio_tokens': 0}, 'completion_tokens_details': {'reasoning_tokens': 0, 'audio_tokens': 0, 'accepted_prediction_tokens': 0, 'rejected_prediction_tokens': 0}}, 'model_name': 'gpt-3.5-turbo', 'system_fingerprint': None, 'finish_reason': 'stop', 'logprobs': None}, id='run-7a22aaef-d162-4ebb-bea2-334056b141eb-0')]}\n"
     ]
    }
   ],
   "source": [
    "# Loop this agent to do real time interrupts\n",
    "messages = [HumanMessage(\"Whats the weather in LA?\")]\n",
    "thread = {\"configurable\": {\"thread_id\": \"2\"}}\n",
    "for event in abot.graph.stream({\"messages\": messages}, thread):\n",
    "    for v in event.values():\n",
    "        print(v)\n",
    "while abot.graph.get_state(thread).next:\n",
    "    print(\"\\n\", abot.graph.get_state(thread),\"\\n\")\n",
    "    _input = input(\"proceed?\")\n",
    "    if _input != \"y\":\n",
    "        print(\"aborting\")\n",
    "        break\n",
    "    for event in abot.graph.stream(None, thread):\n",
    "        for v in event.values():\n",
    "            print(v)"
   ]
  },
  {
   "cell_type": "markdown",
   "metadata": {},
   "source": [
    "# Interrupting Usage and Modifying State"
   ]
  },
  {
   "cell_type": "code",
   "execution_count": 14,
   "metadata": {},
   "outputs": [
    {
     "name": "stdout",
     "output_type": "stream",
     "text": [
      "{'messages': [HumanMessage(content='Whats the weather in LA?', id='928ab413-f312-41b4-a1e9-efa4e9b6e545'), AIMessage(content='', additional_kwargs={'tool_calls': [{'id': 'call_A85gzFS95WcwcxpfNnILmoYc', 'function': {'arguments': '{\"query\":\"weather in Los Angeles\"}', 'name': 'tavily_search_results_json'}, 'type': 'function'}]}, response_metadata={'token_usage': {'completion_tokens': 22, 'prompt_tokens': 152, 'total_tokens': 174, 'prompt_tokens_details': {'cached_tokens': 0, 'audio_tokens': 0}, 'completion_tokens_details': {'reasoning_tokens': 0, 'audio_tokens': 0, 'accepted_prediction_tokens': 0, 'rejected_prediction_tokens': 0}}, 'model_name': 'gpt-3.5-turbo', 'system_fingerprint': None, 'finish_reason': 'tool_calls', 'logprobs': None}, id='run-361fcaa0-36ed-4488-8734-069350b64e66-0', tool_calls=[{'name': 'tavily_search_results_json', 'args': {'query': 'weather in Los Angeles'}, 'id': 'call_A85gzFS95WcwcxpfNnILmoYc'}])]}\n",
      "{'messages': [AIMessage(content='', additional_kwargs={'tool_calls': [{'id': 'call_A85gzFS95WcwcxpfNnILmoYc', 'function': {'arguments': '{\"query\":\"weather in Los Angeles\"}', 'name': 'tavily_search_results_json'}, 'type': 'function'}]}, response_metadata={'token_usage': {'completion_tokens': 22, 'prompt_tokens': 152, 'total_tokens': 174, 'prompt_tokens_details': {'cached_tokens': 0, 'audio_tokens': 0}, 'completion_tokens_details': {'reasoning_tokens': 0, 'audio_tokens': 0, 'accepted_prediction_tokens': 0, 'rejected_prediction_tokens': 0}}, 'model_name': 'gpt-3.5-turbo', 'system_fingerprint': None, 'finish_reason': 'tool_calls', 'logprobs': None}, id='run-361fcaa0-36ed-4488-8734-069350b64e66-0', tool_calls=[{'name': 'tavily_search_results_json', 'args': {'query': 'weather in Los Angeles'}, 'id': 'call_A85gzFS95WcwcxpfNnILmoYc'}])]}\n"
     ]
    }
   ],
   "source": [
    "messages = [HumanMessage(\"Whats the weather in LA?\")]\n",
    "thread = {\"configurable\": {\"thread_id\": \"3\"}}\n",
    "for event in abot.graph.stream({\"messages\": messages}, thread):\n",
    "    for v in event.values():\n",
    "        print(v)"
   ]
  },
  {
   "cell_type": "code",
   "execution_count": 15,
   "metadata": {},
   "outputs": [
    {
     "data": {
      "text/plain": [
       "StateSnapshot(values={'messages': [HumanMessage(content='Whats the weather in LA?', id='928ab413-f312-41b4-a1e9-efa4e9b6e545'), AIMessage(content='', additional_kwargs={'tool_calls': [{'function': {'arguments': '{\"query\":\"weather in Los Angeles\"}', 'name': 'tavily_search_results_json'}, 'id': 'call_A85gzFS95WcwcxpfNnILmoYc', 'type': 'function'}]}, response_metadata={'finish_reason': 'tool_calls', 'logprobs': None, 'model_name': 'gpt-3.5-turbo', 'system_fingerprint': None, 'token_usage': {'completion_tokens': 22, 'completion_tokens_details': {'accepted_prediction_tokens': 0, 'audio_tokens': 0, 'reasoning_tokens': 0, 'rejected_prediction_tokens': 0}, 'prompt_tokens': 152, 'prompt_tokens_details': {'audio_tokens': 0, 'cached_tokens': 0}, 'total_tokens': 174}}, id='run-361fcaa0-36ed-4488-8734-069350b64e66-0', tool_calls=[{'name': 'tavily_search_results_json', 'args': {'query': 'weather in Los Angeles'}, 'id': 'call_A85gzFS95WcwcxpfNnILmoYc'}])]}, next=('action',), config={'configurable': {'thread_id': '3', 'thread_ts': '1eff6c5d-fad1-6c00-8001-b738a7f63650'}}, metadata={'source': 'loop', 'step': 1, 'writes': {'llm': {'messages': [AIMessage(content='', additional_kwargs={'tool_calls': [{'function': {'arguments': '{\"query\":\"weather in Los Angeles\"}', 'name': 'tavily_search_results_json'}, 'id': 'call_A85gzFS95WcwcxpfNnILmoYc', 'type': 'function'}]}, response_metadata={'finish_reason': 'tool_calls', 'logprobs': None, 'model_name': 'gpt-3.5-turbo', 'system_fingerprint': None, 'token_usage': {'completion_tokens': 22, 'completion_tokens_details': {'accepted_prediction_tokens': 0, 'audio_tokens': 0, 'reasoning_tokens': 0, 'rejected_prediction_tokens': 0}, 'prompt_tokens': 152, 'prompt_tokens_details': {'audio_tokens': 0, 'cached_tokens': 0}, 'total_tokens': 174}}, id='run-361fcaa0-36ed-4488-8734-069350b64e66-0', tool_calls=[{'name': 'tavily_search_results_json', 'args': {'query': 'weather in Los Angeles'}, 'id': 'call_A85gzFS95WcwcxpfNnILmoYc'}])]}}}, created_at='2025-03-01T17:51:59.342899+00:00', parent_config={'configurable': {'thread_id': '3', 'thread_ts': '1eff6c5d-f5ed-6b3e-8000-05ae57ee7a47'}})"
      ]
     },
     "execution_count": 15,
     "metadata": {},
     "output_type": "execute_result"
    }
   ],
   "source": [
    "abot.graph.get_state(thread)"
   ]
  },
  {
   "cell_type": "code",
   "execution_count": null,
   "metadata": {},
   "outputs": [],
   "source": [
    "# Now we will modify the state to ask about the Louisiana weather\n",
    "current_values = abot.graph.get_state(thread)"
   ]
  },
  {
   "cell_type": "code",
   "execution_count": 17,
   "metadata": {},
   "outputs": [
    {
     "data": {
      "text/plain": [
       "AIMessage(content='', additional_kwargs={'tool_calls': [{'function': {'arguments': '{\"query\":\"weather in Los Angeles\"}', 'name': 'tavily_search_results_json'}, 'id': 'call_A85gzFS95WcwcxpfNnILmoYc', 'type': 'function'}]}, response_metadata={'finish_reason': 'tool_calls', 'logprobs': None, 'model_name': 'gpt-3.5-turbo', 'system_fingerprint': None, 'token_usage': {'completion_tokens': 22, 'completion_tokens_details': {'accepted_prediction_tokens': 0, 'audio_tokens': 0, 'reasoning_tokens': 0, 'rejected_prediction_tokens': 0}, 'prompt_tokens': 152, 'prompt_tokens_details': {'audio_tokens': 0, 'cached_tokens': 0}, 'total_tokens': 174}}, id='run-361fcaa0-36ed-4488-8734-069350b64e66-0', tool_calls=[{'name': 'tavily_search_results_json', 'args': {'query': 'weather in Los Angeles'}, 'id': 'call_A85gzFS95WcwcxpfNnILmoYc'}])"
      ]
     },
     "execution_count": 17,
     "metadata": {},
     "output_type": "execute_result"
    }
   ],
   "source": [
    "current_values.values['messages'][-1]"
   ]
  },
  {
   "cell_type": "code",
   "execution_count": 18,
   "metadata": {},
   "outputs": [
    {
     "data": {
      "text/plain": [
       "[{'name': 'tavily_search_results_json',\n",
       "  'args': {'query': 'weather in Los Angeles'},\n",
       "  'id': 'call_A85gzFS95WcwcxpfNnILmoYc'}]"
      ]
     },
     "execution_count": 18,
     "metadata": {},
     "output_type": "execute_result"
    }
   ],
   "source": [
    "current_values.values['messages'][-1].tool_calls"
   ]
  },
  {
   "cell_type": "code",
   "execution_count": 19,
   "metadata": {},
   "outputs": [],
   "source": [
    "# Change the tool call\n",
    "_id = current_values.values['messages'][-1].tool_calls[0]['id']\n",
    "current_values.values['messages'][-1].tool_calls = [\n",
    "    {'name': 'tavily_search_results_json',\n",
    "  'args': {'query': 'current weather in Louisiana'},\n",
    "  'id': _id}\n",
    "]"
   ]
  },
  {
   "cell_type": "code",
   "execution_count": 20,
   "metadata": {},
   "outputs": [
    {
     "name": "stdout",
     "output_type": "stream",
     "text": [
      "{'messages': [HumanMessage(content='Whats the weather in LA?', id='928ab413-f312-41b4-a1e9-efa4e9b6e545'), AIMessage(content='', additional_kwargs={'tool_calls': [{'function': {'arguments': '{\"query\":\"weather in Los Angeles\"}', 'name': 'tavily_search_results_json'}, 'id': 'call_A85gzFS95WcwcxpfNnILmoYc', 'type': 'function'}]}, response_metadata={'finish_reason': 'tool_calls', 'logprobs': None, 'model_name': 'gpt-3.5-turbo', 'system_fingerprint': None, 'token_usage': {'completion_tokens': 22, 'completion_tokens_details': {'accepted_prediction_tokens': 0, 'audio_tokens': 0, 'reasoning_tokens': 0, 'rejected_prediction_tokens': 0}, 'prompt_tokens': 152, 'prompt_tokens_details': {'audio_tokens': 0, 'cached_tokens': 0}, 'total_tokens': 174}}, id='run-361fcaa0-36ed-4488-8734-069350b64e66-0', tool_calls=[{'name': 'tavily_search_results_json', 'args': {'query': 'current weather in Louisiana'}, 'id': 'call_A85gzFS95WcwcxpfNnILmoYc'}])]}\n"
     ]
    },
    {
     "data": {
      "text/plain": [
       "{'configurable': {'thread_id': '3',\n",
       "  'thread_ts': '1eff6c63-e823-6805-8002-6e09e8a766d5'}}"
      ]
     },
     "execution_count": 20,
     "metadata": {},
     "output_type": "execute_result"
    }
   ],
   "source": [
    "# Update the graph state to reflect the change\n",
    "abot.graph.update_state(thread, current_values.values)"
   ]
  },
  {
   "cell_type": "code",
   "execution_count": 21,
   "metadata": {},
   "outputs": [
    {
     "data": {
      "text/plain": [
       "StateSnapshot(values={'messages': [HumanMessage(content='Whats the weather in LA?', id='928ab413-f312-41b4-a1e9-efa4e9b6e545'), AIMessage(content='', additional_kwargs={'tool_calls': [{'function': {'arguments': '{\"query\":\"weather in Los Angeles\"}', 'name': 'tavily_search_results_json'}, 'id': 'call_A85gzFS95WcwcxpfNnILmoYc', 'type': 'function'}]}, response_metadata={'finish_reason': 'tool_calls', 'logprobs': None, 'model_name': 'gpt-3.5-turbo', 'system_fingerprint': None, 'token_usage': {'completion_tokens': 22, 'completion_tokens_details': {'accepted_prediction_tokens': 0, 'audio_tokens': 0, 'reasoning_tokens': 0, 'rejected_prediction_tokens': 0}, 'prompt_tokens': 152, 'prompt_tokens_details': {'audio_tokens': 0, 'cached_tokens': 0}, 'total_tokens': 174}}, id='run-361fcaa0-36ed-4488-8734-069350b64e66-0', tool_calls=[{'name': 'tavily_search_results_json', 'args': {'query': 'current weather in Louisiana'}, 'id': 'call_A85gzFS95WcwcxpfNnILmoYc'}])]}, next=('action',), config={'configurable': {'thread_id': '3', 'thread_ts': '1eff6c63-e823-6805-8002-6e09e8a766d5'}}, metadata={'source': 'update', 'step': 2, 'writes': {'llm': {'messages': [HumanMessage(content='Whats the weather in LA?', id='928ab413-f312-41b4-a1e9-efa4e9b6e545'), AIMessage(content='', additional_kwargs={'tool_calls': [{'function': {'arguments': '{\"query\":\"weather in Los Angeles\"}', 'name': 'tavily_search_results_json'}, 'id': 'call_A85gzFS95WcwcxpfNnILmoYc', 'type': 'function'}]}, response_metadata={'finish_reason': 'tool_calls', 'logprobs': None, 'model_name': 'gpt-3.5-turbo', 'system_fingerprint': None, 'token_usage': {'completion_tokens': 22, 'completion_tokens_details': {'accepted_prediction_tokens': 0, 'audio_tokens': 0, 'reasoning_tokens': 0, 'rejected_prediction_tokens': 0}, 'prompt_tokens': 152, 'prompt_tokens_details': {'audio_tokens': 0, 'cached_tokens': 0}, 'total_tokens': 174}}, id='run-361fcaa0-36ed-4488-8734-069350b64e66-0', tool_calls=[{'name': 'tavily_search_results_json', 'args': {'query': 'current weather in Louisiana'}, 'id': 'call_A85gzFS95WcwcxpfNnILmoYc'}])]}}}, created_at='2025-03-01T17:54:38.445363+00:00', parent_config={'configurable': {'thread_id': '3', 'thread_ts': '1eff6c5d-fad1-6c00-8001-b738a7f63650'}})"
      ]
     },
     "execution_count": 21,
     "metadata": {},
     "output_type": "execute_result"
    }
   ],
   "source": [
    "abot.graph.get_state(thread)"
   ]
  },
  {
   "cell_type": "code",
   "execution_count": 22,
   "metadata": {},
   "outputs": [
    {
     "name": "stdout",
     "output_type": "stream",
     "text": [
      "Calling: {'name': 'tavily_search_results_json', 'args': {'query': 'current weather in Louisiana'}, 'id': 'call_A85gzFS95WcwcxpfNnILmoYc'}\n",
      "Back to the model!\n",
      "{'messages': [ToolMessage(content='[{\\'url\\': \\'https://www.weatherapi.com/\\', \\'content\\': \"{\\'location\\': {\\'name\\': \\'Louisiana\\', \\'region\\': \\'Missouri\\', \\'country\\': \\'USA United States of America\\', \\'lat\\': 39.4411, \\'lon\\': -91.0551, \\'tz_id\\': \\'America/Chicago\\', \\'localtime_epoch\\': 1740852169, \\'localtime\\': \\'2025-03-01 12:02\\'}, \\'current\\': {\\'last_updated_epoch\\': 1740852000, \\'last_updated\\': \\'2025-03-01 12:00\\', \\'temp_c\\': 1.5, \\'temp_f\\': 34.7, \\'is_day\\': 1, \\'condition\\': {\\'text\\': \\'Sunny\\', \\'icon\\': \\'//cdn.weatherapi.com/weather/64x64/day/113.png\\', \\'code\\': 1000}, \\'wind_mph\\': 14.5, \\'wind_kph\\': 23.4, \\'wind_degree\\': 343, \\'wind_dir\\': \\'NNW\\', \\'pressure_mb\\': 1023.0, \\'pressure_in\\': 30.2, \\'precip_mm\\': 0.0, \\'precip_in\\': 0.0, \\'humidity\\': 42, \\'cloud\\': 0, \\'feelslike_c\\': -3.8, \\'feelslike_f\\': 25.2, \\'windchill_c\\': -1.2, \\'windchill_f\\': 29.9, \\'heatindex_c\\': 3.4, \\'heatindex_f\\': 38.1, \\'dewpoint_c\\': -7.5, \\'dewpoint_f\\': 18.4, \\'vis_km\\': 16.0, \\'vis_miles\\': 9.0, \\'uv\\': 3.4, \\'gust_mph\\': 16.7, \\'gust_kph\\': 26.9}}\"}, {\\'url\\': \\'https://weather.com/weather/today/l/c0ddc87c922dbe2cf7e9d0054dde4d8ca4cb307344fe711e9206ee736018c3b3\\', \\'content\\': \\'Weather Forecast and Conditions for Louisiana - The Weather Channel | Weather.com Weather Forecasts ### Evening 64° Chance of Rain8% Weather Today in Louisiana ### Now 66° Chance of Rain3% ### 1 am 65° Chance of Rain3% ### 2 am 65° Chance of Rain4% ### 3 am 64° Chance of Rain5% ### 4 am 64° Chance of Rain6% Breathe Easier This Winter By Improving Indoor Air Quality Health News For You Weather Data APIs We may use or share your data with our data vendors.\\'}]', name='tavily_search_results_json', id='85a009ee-c7fe-4c4e-8aba-b662264edeef', tool_call_id='call_A85gzFS95WcwcxpfNnILmoYc')]}\n",
      "{'messages': [HumanMessage(content='Whats the weather in LA?', id='928ab413-f312-41b4-a1e9-efa4e9b6e545'), AIMessage(content='', additional_kwargs={'tool_calls': [{'function': {'arguments': '{\"query\":\"weather in Los Angeles\"}', 'name': 'tavily_search_results_json'}, 'id': 'call_A85gzFS95WcwcxpfNnILmoYc', 'type': 'function'}]}, response_metadata={'finish_reason': 'tool_calls', 'logprobs': None, 'model_name': 'gpt-3.5-turbo', 'system_fingerprint': None, 'token_usage': {'completion_tokens': 22, 'completion_tokens_details': {'accepted_prediction_tokens': 0, 'audio_tokens': 0, 'reasoning_tokens': 0, 'rejected_prediction_tokens': 0}, 'prompt_tokens': 152, 'prompt_tokens_details': {'audio_tokens': 0, 'cached_tokens': 0}, 'total_tokens': 174}}, id='run-361fcaa0-36ed-4488-8734-069350b64e66-0', tool_calls=[{'name': 'tavily_search_results_json', 'args': {'query': 'current weather in Louisiana'}, 'id': 'call_A85gzFS95WcwcxpfNnILmoYc'}]), ToolMessage(content='[{\\'url\\': \\'https://www.weatherapi.com/\\', \\'content\\': \"{\\'location\\': {\\'name\\': \\'Louisiana\\', \\'region\\': \\'Missouri\\', \\'country\\': \\'USA United States of America\\', \\'lat\\': 39.4411, \\'lon\\': -91.0551, \\'tz_id\\': \\'America/Chicago\\', \\'localtime_epoch\\': 1740852169, \\'localtime\\': \\'2025-03-01 12:02\\'}, \\'current\\': {\\'last_updated_epoch\\': 1740852000, \\'last_updated\\': \\'2025-03-01 12:00\\', \\'temp_c\\': 1.5, \\'temp_f\\': 34.7, \\'is_day\\': 1, \\'condition\\': {\\'text\\': \\'Sunny\\', \\'icon\\': \\'//cdn.weatherapi.com/weather/64x64/day/113.png\\', \\'code\\': 1000}, \\'wind_mph\\': 14.5, \\'wind_kph\\': 23.4, \\'wind_degree\\': 343, \\'wind_dir\\': \\'NNW\\', \\'pressure_mb\\': 1023.0, \\'pressure_in\\': 30.2, \\'precip_mm\\': 0.0, \\'precip_in\\': 0.0, \\'humidity\\': 42, \\'cloud\\': 0, \\'feelslike_c\\': -3.8, \\'feelslike_f\\': 25.2, \\'windchill_c\\': -1.2, \\'windchill_f\\': 29.9, \\'heatindex_c\\': 3.4, \\'heatindex_f\\': 38.1, \\'dewpoint_c\\': -7.5, \\'dewpoint_f\\': 18.4, \\'vis_km\\': 16.0, \\'vis_miles\\': 9.0, \\'uv\\': 3.4, \\'gust_mph\\': 16.7, \\'gust_kph\\': 26.9}}\"}, {\\'url\\': \\'https://weather.com/weather/today/l/c0ddc87c922dbe2cf7e9d0054dde4d8ca4cb307344fe711e9206ee736018c3b3\\', \\'content\\': \\'Weather Forecast and Conditions for Louisiana - The Weather Channel | Weather.com Weather Forecasts ### Evening 64° Chance of Rain8% Weather Today in Louisiana ### Now 66° Chance of Rain3% ### 1 am 65° Chance of Rain3% ### 2 am 65° Chance of Rain4% ### 3 am 64° Chance of Rain5% ### 4 am 64° Chance of Rain6% Breathe Easier This Winter By Improving Indoor Air Quality Health News For You Weather Data APIs We may use or share your data with our data vendors.\\'}]', name='tavily_search_results_json', id='85a009ee-c7fe-4c4e-8aba-b662264edeef', tool_call_id='call_A85gzFS95WcwcxpfNnILmoYc'), AIMessage(content='The current weather in Louisiana is sunny with a temperature of 34.7°F (1.5°C). The wind is blowing at 23.4 kph from the NNW direction. The humidity is at 42%, and there is no precipitation at the moment.', response_metadata={'token_usage': {'completion_tokens': 57, 'prompt_tokens': 769, 'total_tokens': 826, 'prompt_tokens_details': {'cached_tokens': 0, 'audio_tokens': 0}, 'completion_tokens_details': {'reasoning_tokens': 0, 'audio_tokens': 0, 'accepted_prediction_tokens': 0, 'rejected_prediction_tokens': 0}}, 'model_name': 'gpt-3.5-turbo', 'system_fingerprint': None, 'finish_reason': 'stop', 'logprobs': None}, id='run-619c7c8c-0af3-4057-99bf-8310fc4de5aa-0')]}\n",
      "{'messages': [AIMessage(content='The current weather in Louisiana is sunny with a temperature of 34.7°F (1.5°C). The wind is blowing at 23.4 kph from the NNW direction. The humidity is at 42%, and there is no precipitation at the moment.', response_metadata={'token_usage': {'completion_tokens': 57, 'prompt_tokens': 769, 'total_tokens': 826, 'prompt_tokens_details': {'cached_tokens': 0, 'audio_tokens': 0}, 'completion_tokens_details': {'reasoning_tokens': 0, 'audio_tokens': 0, 'accepted_prediction_tokens': 0, 'rejected_prediction_tokens': 0}}, 'model_name': 'gpt-3.5-turbo', 'system_fingerprint': None, 'finish_reason': 'stop', 'logprobs': None}, id='run-619c7c8c-0af3-4057-99bf-8310fc4de5aa-0')]}\n"
     ]
    }
   ],
   "source": [
    "for event in abot.graph.stream(None, thread):\n",
    "    for v in event.values():\n",
    "        print(v)"
   ]
  },
  {
   "cell_type": "markdown",
   "metadata": {},
   "source": [
    "## \"Time Travel\" in Agent State"
   ]
  },
  {
   "cell_type": "code",
   "execution_count": 23,
   "metadata": {},
   "outputs": [
    {
     "name": "stdout",
     "output_type": "stream",
     "text": [
      "StateSnapshot(values={'messages': [HumanMessage(content='Whats the weather in LA?', id='928ab413-f312-41b4-a1e9-efa4e9b6e545'), AIMessage(content='', additional_kwargs={'tool_calls': [{'function': {'arguments': '{\"query\":\"weather in Los Angeles\"}', 'name': 'tavily_search_results_json'}, 'id': 'call_A85gzFS95WcwcxpfNnILmoYc', 'type': 'function'}]}, response_metadata={'finish_reason': 'tool_calls', 'logprobs': None, 'model_name': 'gpt-3.5-turbo', 'system_fingerprint': None, 'token_usage': {'completion_tokens': 22, 'completion_tokens_details': {'accepted_prediction_tokens': 0, 'audio_tokens': 0, 'reasoning_tokens': 0, 'rejected_prediction_tokens': 0}, 'prompt_tokens': 152, 'prompt_tokens_details': {'audio_tokens': 0, 'cached_tokens': 0}, 'total_tokens': 174}}, id='run-361fcaa0-36ed-4488-8734-069350b64e66-0', tool_calls=[{'name': 'tavily_search_results_json', 'args': {'query': 'current weather in Louisiana'}, 'id': 'call_A85gzFS95WcwcxpfNnILmoYc'}]), ToolMessage(content='[{\\'url\\': \\'https://www.weatherapi.com/\\', \\'content\\': \"{\\'location\\': {\\'name\\': \\'Louisiana\\', \\'region\\': \\'Missouri\\', \\'country\\': \\'USA United States of America\\', \\'lat\\': 39.4411, \\'lon\\': -91.0551, \\'tz_id\\': \\'America/Chicago\\', \\'localtime_epoch\\': 1740852169, \\'localtime\\': \\'2025-03-01 12:02\\'}, \\'current\\': {\\'last_updated_epoch\\': 1740852000, \\'last_updated\\': \\'2025-03-01 12:00\\', \\'temp_c\\': 1.5, \\'temp_f\\': 34.7, \\'is_day\\': 1, \\'condition\\': {\\'text\\': \\'Sunny\\', \\'icon\\': \\'//cdn.weatherapi.com/weather/64x64/day/113.png\\', \\'code\\': 1000}, \\'wind_mph\\': 14.5, \\'wind_kph\\': 23.4, \\'wind_degree\\': 343, \\'wind_dir\\': \\'NNW\\', \\'pressure_mb\\': 1023.0, \\'pressure_in\\': 30.2, \\'precip_mm\\': 0.0, \\'precip_in\\': 0.0, \\'humidity\\': 42, \\'cloud\\': 0, \\'feelslike_c\\': -3.8, \\'feelslike_f\\': 25.2, \\'windchill_c\\': -1.2, \\'windchill_f\\': 29.9, \\'heatindex_c\\': 3.4, \\'heatindex_f\\': 38.1, \\'dewpoint_c\\': -7.5, \\'dewpoint_f\\': 18.4, \\'vis_km\\': 16.0, \\'vis_miles\\': 9.0, \\'uv\\': 3.4, \\'gust_mph\\': 16.7, \\'gust_kph\\': 26.9}}\"}, {\\'url\\': \\'https://weather.com/weather/today/l/c0ddc87c922dbe2cf7e9d0054dde4d8ca4cb307344fe711e9206ee736018c3b3\\', \\'content\\': \\'Weather Forecast and Conditions for Louisiana - The Weather Channel | Weather.com Weather Forecasts ### Evening 64° Chance of Rain8% Weather Today in Louisiana ### Now 66° Chance of Rain3% ### 1 am 65° Chance of Rain3% ### 2 am 65° Chance of Rain4% ### 3 am 64° Chance of Rain5% ### 4 am 64° Chance of Rain6% Breathe Easier This Winter By Improving Indoor Air Quality Health News For You Weather Data APIs We may use or share your data with our data vendors.\\'}]', name='tavily_search_results_json', id='85a009ee-c7fe-4c4e-8aba-b662264edeef', tool_call_id='call_A85gzFS95WcwcxpfNnILmoYc'), AIMessage(content='The current weather in Louisiana is sunny with a temperature of 34.7°F (1.5°C). The wind is blowing at 23.4 kph from the NNW direction. The humidity is at 42%, and there is no precipitation at the moment.', response_metadata={'finish_reason': 'stop', 'logprobs': None, 'model_name': 'gpt-3.5-turbo', 'system_fingerprint': None, 'token_usage': {'completion_tokens': 57, 'completion_tokens_details': {'accepted_prediction_tokens': 0, 'audio_tokens': 0, 'reasoning_tokens': 0, 'rejected_prediction_tokens': 0}, 'prompt_tokens': 769, 'prompt_tokens_details': {'audio_tokens': 0, 'cached_tokens': 0}, 'total_tokens': 826}}, id='run-619c7c8c-0af3-4057-99bf-8310fc4de5aa-0')]}, next=(), config={'configurable': {'thread_id': '3', 'thread_ts': '1eff6c65-1c25-62f2-8004-d4d135f2dc48'}}, metadata={'source': 'loop', 'step': 4, 'writes': {'llm': {'messages': [AIMessage(content='The current weather in Louisiana is sunny with a temperature of 34.7°F (1.5°C). The wind is blowing at 23.4 kph from the NNW direction. The humidity is at 42%, and there is no precipitation at the moment.', response_metadata={'finish_reason': 'stop', 'logprobs': None, 'model_name': 'gpt-3.5-turbo', 'system_fingerprint': None, 'token_usage': {'completion_tokens': 57, 'completion_tokens_details': {'accepted_prediction_tokens': 0, 'audio_tokens': 0, 'reasoning_tokens': 0, 'rejected_prediction_tokens': 0}, 'prompt_tokens': 769, 'prompt_tokens_details': {'audio_tokens': 0, 'cached_tokens': 0}, 'total_tokens': 826}}, id='run-619c7c8c-0af3-4057-99bf-8310fc4de5aa-0')]}}}, created_at='2025-03-01T17:55:10.742193+00:00', parent_config={'configurable': {'thread_id': '3', 'thread_ts': '1eff6c65-1164-6caf-8003-ff33055ea016'}})\n",
      "--\n",
      "StateSnapshot(values={'messages': [HumanMessage(content='Whats the weather in LA?', id='928ab413-f312-41b4-a1e9-efa4e9b6e545'), AIMessage(content='', additional_kwargs={'tool_calls': [{'function': {'arguments': '{\"query\":\"weather in Los Angeles\"}', 'name': 'tavily_search_results_json'}, 'id': 'call_A85gzFS95WcwcxpfNnILmoYc', 'type': 'function'}]}, response_metadata={'finish_reason': 'tool_calls', 'logprobs': None, 'model_name': 'gpt-3.5-turbo', 'system_fingerprint': None, 'token_usage': {'completion_tokens': 22, 'completion_tokens_details': {'accepted_prediction_tokens': 0, 'audio_tokens': 0, 'reasoning_tokens': 0, 'rejected_prediction_tokens': 0}, 'prompt_tokens': 152, 'prompt_tokens_details': {'audio_tokens': 0, 'cached_tokens': 0}, 'total_tokens': 174}}, id='run-361fcaa0-36ed-4488-8734-069350b64e66-0', tool_calls=[{'name': 'tavily_search_results_json', 'args': {'query': 'current weather in Louisiana'}, 'id': 'call_A85gzFS95WcwcxpfNnILmoYc'}]), ToolMessage(content='[{\\'url\\': \\'https://www.weatherapi.com/\\', \\'content\\': \"{\\'location\\': {\\'name\\': \\'Louisiana\\', \\'region\\': \\'Missouri\\', \\'country\\': \\'USA United States of America\\', \\'lat\\': 39.4411, \\'lon\\': -91.0551, \\'tz_id\\': \\'America/Chicago\\', \\'localtime_epoch\\': 1740852169, \\'localtime\\': \\'2025-03-01 12:02\\'}, \\'current\\': {\\'last_updated_epoch\\': 1740852000, \\'last_updated\\': \\'2025-03-01 12:00\\', \\'temp_c\\': 1.5, \\'temp_f\\': 34.7, \\'is_day\\': 1, \\'condition\\': {\\'text\\': \\'Sunny\\', \\'icon\\': \\'//cdn.weatherapi.com/weather/64x64/day/113.png\\', \\'code\\': 1000}, \\'wind_mph\\': 14.5, \\'wind_kph\\': 23.4, \\'wind_degree\\': 343, \\'wind_dir\\': \\'NNW\\', \\'pressure_mb\\': 1023.0, \\'pressure_in\\': 30.2, \\'precip_mm\\': 0.0, \\'precip_in\\': 0.0, \\'humidity\\': 42, \\'cloud\\': 0, \\'feelslike_c\\': -3.8, \\'feelslike_f\\': 25.2, \\'windchill_c\\': -1.2, \\'windchill_f\\': 29.9, \\'heatindex_c\\': 3.4, \\'heatindex_f\\': 38.1, \\'dewpoint_c\\': -7.5, \\'dewpoint_f\\': 18.4, \\'vis_km\\': 16.0, \\'vis_miles\\': 9.0, \\'uv\\': 3.4, \\'gust_mph\\': 16.7, \\'gust_kph\\': 26.9}}\"}, {\\'url\\': \\'https://weather.com/weather/today/l/c0ddc87c922dbe2cf7e9d0054dde4d8ca4cb307344fe711e9206ee736018c3b3\\', \\'content\\': \\'Weather Forecast and Conditions for Louisiana - The Weather Channel | Weather.com Weather Forecasts ### Evening 64° Chance of Rain8% Weather Today in Louisiana ### Now 66° Chance of Rain3% ### 1 am 65° Chance of Rain3% ### 2 am 65° Chance of Rain4% ### 3 am 64° Chance of Rain5% ### 4 am 64° Chance of Rain6% Breathe Easier This Winter By Improving Indoor Air Quality Health News For You Weather Data APIs We may use or share your data with our data vendors.\\'}]', name='tavily_search_results_json', id='85a009ee-c7fe-4c4e-8aba-b662264edeef', tool_call_id='call_A85gzFS95WcwcxpfNnILmoYc')]}, next=('llm',), config={'configurable': {'thread_id': '3', 'thread_ts': '1eff6c65-1164-6caf-8003-ff33055ea016'}}, metadata={'source': 'loop', 'step': 3, 'writes': {'action': {'messages': [ToolMessage(content='[{\\'url\\': \\'https://www.weatherapi.com/\\', \\'content\\': \"{\\'location\\': {\\'name\\': \\'Louisiana\\', \\'region\\': \\'Missouri\\', \\'country\\': \\'USA United States of America\\', \\'lat\\': 39.4411, \\'lon\\': -91.0551, \\'tz_id\\': \\'America/Chicago\\', \\'localtime_epoch\\': 1740852169, \\'localtime\\': \\'2025-03-01 12:02\\'}, \\'current\\': {\\'last_updated_epoch\\': 1740852000, \\'last_updated\\': \\'2025-03-01 12:00\\', \\'temp_c\\': 1.5, \\'temp_f\\': 34.7, \\'is_day\\': 1, \\'condition\\': {\\'text\\': \\'Sunny\\', \\'icon\\': \\'//cdn.weatherapi.com/weather/64x64/day/113.png\\', \\'code\\': 1000}, \\'wind_mph\\': 14.5, \\'wind_kph\\': 23.4, \\'wind_degree\\': 343, \\'wind_dir\\': \\'NNW\\', \\'pressure_mb\\': 1023.0, \\'pressure_in\\': 30.2, \\'precip_mm\\': 0.0, \\'precip_in\\': 0.0, \\'humidity\\': 42, \\'cloud\\': 0, \\'feelslike_c\\': -3.8, \\'feelslike_f\\': 25.2, \\'windchill_c\\': -1.2, \\'windchill_f\\': 29.9, \\'heatindex_c\\': 3.4, \\'heatindex_f\\': 38.1, \\'dewpoint_c\\': -7.5, \\'dewpoint_f\\': 18.4, \\'vis_km\\': 16.0, \\'vis_miles\\': 9.0, \\'uv\\': 3.4, \\'gust_mph\\': 16.7, \\'gust_kph\\': 26.9}}\"}, {\\'url\\': \\'https://weather.com/weather/today/l/c0ddc87c922dbe2cf7e9d0054dde4d8ca4cb307344fe711e9206ee736018c3b3\\', \\'content\\': \\'Weather Forecast and Conditions for Louisiana - The Weather Channel | Weather.com Weather Forecasts ### Evening 64° Chance of Rain8% Weather Today in Louisiana ### Now 66° Chance of Rain3% ### 1 am 65° Chance of Rain3% ### 2 am 65° Chance of Rain4% ### 3 am 64° Chance of Rain5% ### 4 am 64° Chance of Rain6% Breathe Easier This Winter By Improving Indoor Air Quality Health News For You Weather Data APIs We may use or share your data with our data vendors.\\'}]', name='tavily_search_results_json', id='85a009ee-c7fe-4c4e-8aba-b662264edeef', tool_call_id='call_A85gzFS95WcwcxpfNnILmoYc')]}}}, created_at='2025-03-01T17:55:09.614814+00:00', parent_config={'configurable': {'thread_id': '3', 'thread_ts': '1eff6c63-e823-6805-8002-6e09e8a766d5'}})\n",
      "--\n",
      "StateSnapshot(values={'messages': [HumanMessage(content='Whats the weather in LA?', id='928ab413-f312-41b4-a1e9-efa4e9b6e545'), AIMessage(content='', additional_kwargs={'tool_calls': [{'function': {'arguments': '{\"query\":\"weather in Los Angeles\"}', 'name': 'tavily_search_results_json'}, 'id': 'call_A85gzFS95WcwcxpfNnILmoYc', 'type': 'function'}]}, response_metadata={'finish_reason': 'tool_calls', 'logprobs': None, 'model_name': 'gpt-3.5-turbo', 'system_fingerprint': None, 'token_usage': {'completion_tokens': 22, 'completion_tokens_details': {'accepted_prediction_tokens': 0, 'audio_tokens': 0, 'reasoning_tokens': 0, 'rejected_prediction_tokens': 0}, 'prompt_tokens': 152, 'prompt_tokens_details': {'audio_tokens': 0, 'cached_tokens': 0}, 'total_tokens': 174}}, id='run-361fcaa0-36ed-4488-8734-069350b64e66-0', tool_calls=[{'name': 'tavily_search_results_json', 'args': {'query': 'current weather in Louisiana'}, 'id': 'call_A85gzFS95WcwcxpfNnILmoYc'}])]}, next=('action',), config={'configurable': {'thread_id': '3', 'thread_ts': '1eff6c63-e823-6805-8002-6e09e8a766d5'}}, metadata={'source': 'update', 'step': 2, 'writes': {'llm': {'messages': [HumanMessage(content='Whats the weather in LA?', id='928ab413-f312-41b4-a1e9-efa4e9b6e545'), AIMessage(content='', additional_kwargs={'tool_calls': [{'function': {'arguments': '{\"query\":\"weather in Los Angeles\"}', 'name': 'tavily_search_results_json'}, 'id': 'call_A85gzFS95WcwcxpfNnILmoYc', 'type': 'function'}]}, response_metadata={'finish_reason': 'tool_calls', 'logprobs': None, 'model_name': 'gpt-3.5-turbo', 'system_fingerprint': None, 'token_usage': {'completion_tokens': 22, 'completion_tokens_details': {'accepted_prediction_tokens': 0, 'audio_tokens': 0, 'reasoning_tokens': 0, 'rejected_prediction_tokens': 0}, 'prompt_tokens': 152, 'prompt_tokens_details': {'audio_tokens': 0, 'cached_tokens': 0}, 'total_tokens': 174}}, id='run-361fcaa0-36ed-4488-8734-069350b64e66-0', tool_calls=[{'name': 'tavily_search_results_json', 'args': {'query': 'current weather in Louisiana'}, 'id': 'call_A85gzFS95WcwcxpfNnILmoYc'}])]}}}, created_at='2025-03-01T17:54:38.445363+00:00', parent_config={'configurable': {'thread_id': '3', 'thread_ts': '1eff6c5d-fad1-6c00-8001-b738a7f63650'}})\n",
      "--\n",
      "StateSnapshot(values={'messages': [HumanMessage(content='Whats the weather in LA?', id='928ab413-f312-41b4-a1e9-efa4e9b6e545'), AIMessage(content='', additional_kwargs={'tool_calls': [{'function': {'arguments': '{\"query\":\"weather in Los Angeles\"}', 'name': 'tavily_search_results_json'}, 'id': 'call_A85gzFS95WcwcxpfNnILmoYc', 'type': 'function'}]}, response_metadata={'finish_reason': 'tool_calls', 'logprobs': None, 'model_name': 'gpt-3.5-turbo', 'system_fingerprint': None, 'token_usage': {'completion_tokens': 22, 'completion_tokens_details': {'accepted_prediction_tokens': 0, 'audio_tokens': 0, 'reasoning_tokens': 0, 'rejected_prediction_tokens': 0}, 'prompt_tokens': 152, 'prompt_tokens_details': {'audio_tokens': 0, 'cached_tokens': 0}, 'total_tokens': 174}}, id='run-361fcaa0-36ed-4488-8734-069350b64e66-0', tool_calls=[{'name': 'tavily_search_results_json', 'args': {'query': 'weather in Los Angeles'}, 'id': 'call_A85gzFS95WcwcxpfNnILmoYc'}])]}, next=('action',), config={'configurable': {'thread_id': '3', 'thread_ts': '1eff6c5d-fad1-6c00-8001-b738a7f63650'}}, metadata={'source': 'loop', 'step': 1, 'writes': {'llm': {'messages': [AIMessage(content='', additional_kwargs={'tool_calls': [{'function': {'arguments': '{\"query\":\"weather in Los Angeles\"}', 'name': 'tavily_search_results_json'}, 'id': 'call_A85gzFS95WcwcxpfNnILmoYc', 'type': 'function'}]}, response_metadata={'finish_reason': 'tool_calls', 'logprobs': None, 'model_name': 'gpt-3.5-turbo', 'system_fingerprint': None, 'token_usage': {'completion_tokens': 22, 'completion_tokens_details': {'accepted_prediction_tokens': 0, 'audio_tokens': 0, 'reasoning_tokens': 0, 'rejected_prediction_tokens': 0}, 'prompt_tokens': 152, 'prompt_tokens_details': {'audio_tokens': 0, 'cached_tokens': 0}, 'total_tokens': 174}}, id='run-361fcaa0-36ed-4488-8734-069350b64e66-0', tool_calls=[{'name': 'tavily_search_results_json', 'args': {'query': 'weather in Los Angeles'}, 'id': 'call_A85gzFS95WcwcxpfNnILmoYc'}])]}}}, created_at='2025-03-01T17:51:59.342899+00:00', parent_config={'configurable': {'thread_id': '3', 'thread_ts': '1eff6c5d-f5ed-6b3e-8000-05ae57ee7a47'}})\n",
      "--\n",
      "StateSnapshot(values={'messages': [HumanMessage(content='Whats the weather in LA?', id='928ab413-f312-41b4-a1e9-efa4e9b6e545')]}, next=('llm',), config={'configurable': {'thread_id': '3', 'thread_ts': '1eff6c5d-f5ed-6b3e-8000-05ae57ee7a47'}}, metadata={'source': 'loop', 'step': 0, 'writes': None}, created_at='2025-03-01T17:51:58.830060+00:00', parent_config={'configurable': {'thread_id': '3', 'thread_ts': '1eff6c5d-f5ea-6fe6-bfff-d810e2798385'}})\n",
      "--\n",
      "StateSnapshot(values={'messages': []}, next=('__start__',), config={'configurable': {'thread_id': '3', 'thread_ts': '1eff6c5d-f5ea-6fe6-bfff-d810e2798385'}}, metadata={'source': 'input', 'step': -1, 'writes': {'messages': [HumanMessage(content='Whats the weather in LA?')]}}, created_at='2025-03-01T17:51:58.828950+00:00', parent_config=None)\n",
      "--\n"
     ]
    }
   ],
   "source": [
    "# create state list overtime\n",
    "states = []\n",
    "for state in abot.graph.get_state_history(thread):\n",
    "    print(state)\n",
    "    print('--')\n",
    "    states.append(state)"
   ]
  },
  {
   "cell_type": "code",
   "execution_count": 24,
   "metadata": {},
   "outputs": [],
   "source": [
    "to_replay = states[-3]"
   ]
  },
  {
   "cell_type": "code",
   "execution_count": 25,
   "metadata": {},
   "outputs": [
    {
     "data": {
      "text/plain": [
       "StateSnapshot(values={'messages': [HumanMessage(content='Whats the weather in LA?', id='928ab413-f312-41b4-a1e9-efa4e9b6e545'), AIMessage(content='', additional_kwargs={'tool_calls': [{'function': {'arguments': '{\"query\":\"weather in Los Angeles\"}', 'name': 'tavily_search_results_json'}, 'id': 'call_A85gzFS95WcwcxpfNnILmoYc', 'type': 'function'}]}, response_metadata={'finish_reason': 'tool_calls', 'logprobs': None, 'model_name': 'gpt-3.5-turbo', 'system_fingerprint': None, 'token_usage': {'completion_tokens': 22, 'completion_tokens_details': {'accepted_prediction_tokens': 0, 'audio_tokens': 0, 'reasoning_tokens': 0, 'rejected_prediction_tokens': 0}, 'prompt_tokens': 152, 'prompt_tokens_details': {'audio_tokens': 0, 'cached_tokens': 0}, 'total_tokens': 174}}, id='run-361fcaa0-36ed-4488-8734-069350b64e66-0', tool_calls=[{'name': 'tavily_search_results_json', 'args': {'query': 'weather in Los Angeles'}, 'id': 'call_A85gzFS95WcwcxpfNnILmoYc'}])]}, next=('action',), config={'configurable': {'thread_id': '3', 'thread_ts': '1eff6c5d-fad1-6c00-8001-b738a7f63650'}}, metadata={'source': 'loop', 'step': 1, 'writes': {'llm': {'messages': [AIMessage(content='', additional_kwargs={'tool_calls': [{'function': {'arguments': '{\"query\":\"weather in Los Angeles\"}', 'name': 'tavily_search_results_json'}, 'id': 'call_A85gzFS95WcwcxpfNnILmoYc', 'type': 'function'}]}, response_metadata={'finish_reason': 'tool_calls', 'logprobs': None, 'model_name': 'gpt-3.5-turbo', 'system_fingerprint': None, 'token_usage': {'completion_tokens': 22, 'completion_tokens_details': {'accepted_prediction_tokens': 0, 'audio_tokens': 0, 'reasoning_tokens': 0, 'rejected_prediction_tokens': 0}, 'prompt_tokens': 152, 'prompt_tokens_details': {'audio_tokens': 0, 'cached_tokens': 0}, 'total_tokens': 174}}, id='run-361fcaa0-36ed-4488-8734-069350b64e66-0', tool_calls=[{'name': 'tavily_search_results_json', 'args': {'query': 'weather in Los Angeles'}, 'id': 'call_A85gzFS95WcwcxpfNnILmoYc'}])]}}}, created_at='2025-03-01T17:51:59.342899+00:00', parent_config={'configurable': {'thread_id': '3', 'thread_ts': '1eff6c5d-f5ed-6b3e-8000-05ae57ee7a47'}})"
      ]
     },
     "execution_count": 25,
     "metadata": {},
     "output_type": "execute_result"
    }
   ],
   "source": [
    "to_replay"
   ]
  },
  {
   "cell_type": "code",
   "execution_count": null,
   "metadata": {},
   "outputs": [
    {
     "name": "stdout",
     "output_type": "stream",
     "text": [
      "Calling: {'name': 'tavily_search_results_json', 'args': {'query': 'weather in Los Angeles'}, 'id': 'call_A85gzFS95WcwcxpfNnILmoYc'}\n",
      "Back to the model!\n",
      "{'messages': [ToolMessage(content='[{\\'url\\': \\'https://www.weatherapi.com/\\', \\'content\\': \"{\\'location\\': {\\'name\\': \\'Los Angeles\\', \\'region\\': \\'California\\', \\'country\\': \\'United States of America\\', \\'lat\\': 34.0522, \\'lon\\': -118.2428, \\'tz_id\\': \\'America/Los_Angeles\\', \\'localtime_epoch\\': 1740851345, \\'localtime\\': \\'2025-03-01 09:49\\'}, \\'current\\': {\\'last_updated_epoch\\': 1740851100, \\'last_updated\\': \\'2025-03-01 09:45\\', \\'temp_c\\': 15.3, \\'temp_f\\': 59.5, \\'is_day\\': 1, \\'condition\\': {\\'text\\': \\'Overcast\\', \\'icon\\': \\'//cdn.weatherapi.com/weather/64x64/day/122.png\\', \\'code\\': 1009}, \\'wind_mph\\': 3.6, \\'wind_kph\\': 5.8, \\'wind_degree\\': 233, \\'wind_dir\\': \\'SW\\', \\'pressure_mb\\': 1016.0, \\'pressure_in\\': 29.99, \\'precip_mm\\': 0.0, \\'precip_in\\': 0.0, \\'humidity\\': 72, \\'cloud\\': 100, \\'feelslike_c\\': 15.3, \\'feelslike_f\\': 59.5, \\'windchill_c\\': 12.0, \\'windchill_f\\': 53.6, \\'heatindex_c\\': 12.0, \\'heatindex_f\\': 53.6, \\'dewpoint_c\\': 11.2, \\'dewpoint_f\\': 52.1, \\'vis_km\\': 16.0, \\'vis_miles\\': 9.0, \\'uv\\': 2.0, \\'gust_mph\\': 4.2, \\'gust_kph\\': 6.7}}\"}, {\\'url\\': \\'https://www.accuweather.com/en/us/los-angeles/90012/current-weather/347625\\', \\'content\\': \"Los Angeles, CA Current Weather | AccuWeather Cool; cloudy this morning, then times of clouds and sun this afternoon Winter Weather Quick-hitting weekend storm to bring another blow to Northeast 4 hours ago Travel Cessna reported missing over Alaska with 10 on board, officials say 4 hours ago Weather Forecasts Spring forecast 2025: US faces split between warmups, lingering chill 2 days ago Winter Weather Winter storms to rage on across the nation early next week 4 hours ago Astronomy Mercury is about to join the planetary parade, but there\\'s a catch 1 day ago  More Stories AccuWeather Ready Business Health Hurricane Leisure and Recreation Severe Weather Space and Astronomy Sports Travel Weather News Winter Center AccuWeather Ready Business Health Hurricane Leisure and Recreation Severe Weather Space and Astronomy Sports Travel Weather News Winter Center\"}]', name='tavily_search_results_json', id='fa42ee9b-fc3d-42e6-b3ac-98b0e04c635c', tool_call_id='call_A85gzFS95WcwcxpfNnILmoYc')]}\n",
      "{'messages': [HumanMessage(content='Whats the weather in LA?', id='928ab413-f312-41b4-a1e9-efa4e9b6e545'), AIMessage(content='', additional_kwargs={'tool_calls': [{'function': {'arguments': '{\"query\":\"weather in Los Angeles\"}', 'name': 'tavily_search_results_json'}, 'id': 'call_A85gzFS95WcwcxpfNnILmoYc', 'type': 'function'}]}, response_metadata={'finish_reason': 'tool_calls', 'logprobs': None, 'model_name': 'gpt-3.5-turbo', 'system_fingerprint': None, 'token_usage': {'completion_tokens': 22, 'completion_tokens_details': {'accepted_prediction_tokens': 0, 'audio_tokens': 0, 'reasoning_tokens': 0, 'rejected_prediction_tokens': 0}, 'prompt_tokens': 152, 'prompt_tokens_details': {'audio_tokens': 0, 'cached_tokens': 0}, 'total_tokens': 174}}, id='run-361fcaa0-36ed-4488-8734-069350b64e66-0', tool_calls=[{'name': 'tavily_search_results_json', 'args': {'query': 'weather in Los Angeles'}, 'id': 'call_A85gzFS95WcwcxpfNnILmoYc'}]), ToolMessage(content='[{\\'url\\': \\'https://www.weatherapi.com/\\', \\'content\\': \"{\\'location\\': {\\'name\\': \\'Los Angeles\\', \\'region\\': \\'California\\', \\'country\\': \\'United States of America\\', \\'lat\\': 34.0522, \\'lon\\': -118.2428, \\'tz_id\\': \\'America/Los_Angeles\\', \\'localtime_epoch\\': 1740851345, \\'localtime\\': \\'2025-03-01 09:49\\'}, \\'current\\': {\\'last_updated_epoch\\': 1740851100, \\'last_updated\\': \\'2025-03-01 09:45\\', \\'temp_c\\': 15.3, \\'temp_f\\': 59.5, \\'is_day\\': 1, \\'condition\\': {\\'text\\': \\'Overcast\\', \\'icon\\': \\'//cdn.weatherapi.com/weather/64x64/day/122.png\\', \\'code\\': 1009}, \\'wind_mph\\': 3.6, \\'wind_kph\\': 5.8, \\'wind_degree\\': 233, \\'wind_dir\\': \\'SW\\', \\'pressure_mb\\': 1016.0, \\'pressure_in\\': 29.99, \\'precip_mm\\': 0.0, \\'precip_in\\': 0.0, \\'humidity\\': 72, \\'cloud\\': 100, \\'feelslike_c\\': 15.3, \\'feelslike_f\\': 59.5, \\'windchill_c\\': 12.0, \\'windchill_f\\': 53.6, \\'heatindex_c\\': 12.0, \\'heatindex_f\\': 53.6, \\'dewpoint_c\\': 11.2, \\'dewpoint_f\\': 52.1, \\'vis_km\\': 16.0, \\'vis_miles\\': 9.0, \\'uv\\': 2.0, \\'gust_mph\\': 4.2, \\'gust_kph\\': 6.7}}\"}, {\\'url\\': \\'https://www.accuweather.com/en/us/los-angeles/90012/current-weather/347625\\', \\'content\\': \"Los Angeles, CA Current Weather | AccuWeather Cool; cloudy this morning, then times of clouds and sun this afternoon Winter Weather Quick-hitting weekend storm to bring another blow to Northeast 4 hours ago Travel Cessna reported missing over Alaska with 10 on board, officials say 4 hours ago Weather Forecasts Spring forecast 2025: US faces split between warmups, lingering chill 2 days ago Winter Weather Winter storms to rage on across the nation early next week 4 hours ago Astronomy Mercury is about to join the planetary parade, but there\\'s a catch 1 day ago  More Stories AccuWeather Ready Business Health Hurricane Leisure and Recreation Severe Weather Space and Astronomy Sports Travel Weather News Winter Center AccuWeather Ready Business Health Hurricane Leisure and Recreation Severe Weather Space and Astronomy Sports Travel Weather News Winter Center\"}]', name='tavily_search_results_json', id='fa42ee9b-fc3d-42e6-b3ac-98b0e04c635c', tool_call_id='call_A85gzFS95WcwcxpfNnILmoYc'), AIMessage(content='The current weather in Los Angeles is as follows:\\n- Temperature: 15.3°C (59.5°F)\\n- Condition: Overcast\\n- Wind: 5.8 km/h from the southwest\\n- Pressure: 1016.0 mb\\n- Humidity: 72%\\n- Visibility: 16.0 km\\n\\nWould you like more details or information about the weather in Los Angeles?', response_metadata={'token_usage': {'completion_tokens': 85, 'prompt_tokens': 794, 'total_tokens': 879, 'prompt_tokens_details': {'cached_tokens': 0, 'audio_tokens': 0}, 'completion_tokens_details': {'reasoning_tokens': 0, 'audio_tokens': 0, 'accepted_prediction_tokens': 0, 'rejected_prediction_tokens': 0}}, 'model_name': 'gpt-3.5-turbo', 'system_fingerprint': None, 'finish_reason': 'stop', 'logprobs': None}, id='run-8900cfb2-7b10-499d-9fd9-55dc759cc277-0')]}\n",
      "{'messages': [AIMessage(content='The current weather in Los Angeles is as follows:\\n- Temperature: 15.3°C (59.5°F)\\n- Condition: Overcast\\n- Wind: 5.8 km/h from the southwest\\n- Pressure: 1016.0 mb\\n- Humidity: 72%\\n- Visibility: 16.0 km\\n\\nWould you like more details or information about the weather in Los Angeles?', response_metadata={'token_usage': {'completion_tokens': 85, 'prompt_tokens': 794, 'total_tokens': 879, 'prompt_tokens_details': {'cached_tokens': 0, 'audio_tokens': 0}, 'completion_tokens_details': {'reasoning_tokens': 0, 'audio_tokens': 0, 'accepted_prediction_tokens': 0, 'rejected_prediction_tokens': 0}}, 'model_name': 'gpt-3.5-turbo', 'system_fingerprint': None, 'finish_reason': 'stop', 'logprobs': None}, id='run-8900cfb2-7b10-499d-9fd9-55dc759cc277-0')]}\n"
     ]
    }
   ],
   "source": [
    "# Now we can replay the agent from this state\n",
    "for event in abot.graph.stream(None, to_replay.config):\n",
    "    for k, v in event.items():\n",
    "        print(v)"
   ]
  },
  {
   "cell_type": "markdown",
   "metadata": {},
   "source": [
    "## Editing State back in time"
   ]
  },
  {
   "cell_type": "code",
   "execution_count": 27,
   "metadata": {},
   "outputs": [
    {
     "data": {
      "text/plain": [
       "StateSnapshot(values={'messages': [HumanMessage(content='Whats the weather in LA?', id='928ab413-f312-41b4-a1e9-efa4e9b6e545'), AIMessage(content='', additional_kwargs={'tool_calls': [{'function': {'arguments': '{\"query\":\"weather in Los Angeles\"}', 'name': 'tavily_search_results_json'}, 'id': 'call_A85gzFS95WcwcxpfNnILmoYc', 'type': 'function'}]}, response_metadata={'finish_reason': 'tool_calls', 'logprobs': None, 'model_name': 'gpt-3.5-turbo', 'system_fingerprint': None, 'token_usage': {'completion_tokens': 22, 'completion_tokens_details': {'accepted_prediction_tokens': 0, 'audio_tokens': 0, 'reasoning_tokens': 0, 'rejected_prediction_tokens': 0}, 'prompt_tokens': 152, 'prompt_tokens_details': {'audio_tokens': 0, 'cached_tokens': 0}, 'total_tokens': 174}}, id='run-361fcaa0-36ed-4488-8734-069350b64e66-0', tool_calls=[{'name': 'tavily_search_results_json', 'args': {'query': 'weather in Los Angeles'}, 'id': 'call_A85gzFS95WcwcxpfNnILmoYc'}])]}, next=('action',), config={'configurable': {'thread_id': '3', 'thread_ts': '1eff6c5d-fad1-6c00-8001-b738a7f63650'}}, metadata={'source': 'loop', 'step': 1, 'writes': {'llm': {'messages': [AIMessage(content='', additional_kwargs={'tool_calls': [{'function': {'arguments': '{\"query\":\"weather in Los Angeles\"}', 'name': 'tavily_search_results_json'}, 'id': 'call_A85gzFS95WcwcxpfNnILmoYc', 'type': 'function'}]}, response_metadata={'finish_reason': 'tool_calls', 'logprobs': None, 'model_name': 'gpt-3.5-turbo', 'system_fingerprint': None, 'token_usage': {'completion_tokens': 22, 'completion_tokens_details': {'accepted_prediction_tokens': 0, 'audio_tokens': 0, 'reasoning_tokens': 0, 'rejected_prediction_tokens': 0}, 'prompt_tokens': 152, 'prompt_tokens_details': {'audio_tokens': 0, 'cached_tokens': 0}, 'total_tokens': 174}}, id='run-361fcaa0-36ed-4488-8734-069350b64e66-0', tool_calls=[{'name': 'tavily_search_results_json', 'args': {'query': 'weather in Los Angeles'}, 'id': 'call_A85gzFS95WcwcxpfNnILmoYc'}])]}}}, created_at='2025-03-01T17:51:59.342899+00:00', parent_config={'configurable': {'thread_id': '3', 'thread_ts': '1eff6c5d-f5ed-6b3e-8000-05ae57ee7a47'}})"
      ]
     },
     "execution_count": 27,
     "metadata": {},
     "output_type": "execute_result"
    }
   ],
   "source": [
    "to_replay"
   ]
  },
  {
   "cell_type": "code",
   "execution_count": 28,
   "metadata": {},
   "outputs": [],
   "source": [
    "_id = to_replay.values['messages'][-1].tool_calls[0]['id']\n",
    "to_replay.values['messages'][-1].tool_calls = [{'name': 'tavily_search_results_json',\n",
    "  'args': {'query': 'current weather in LA, accuweather'},\n",
    "  'id': _id}]"
   ]
  },
  {
   "cell_type": "code",
   "execution_count": 29,
   "metadata": {},
   "outputs": [
    {
     "name": "stdout",
     "output_type": "stream",
     "text": [
      "{'messages': [HumanMessage(content='Whats the weather in LA?', id='928ab413-f312-41b4-a1e9-efa4e9b6e545'), AIMessage(content='', additional_kwargs={'tool_calls': [{'function': {'arguments': '{\"query\":\"weather in Los Angeles\"}', 'name': 'tavily_search_results_json'}, 'id': 'call_A85gzFS95WcwcxpfNnILmoYc', 'type': 'function'}]}, response_metadata={'finish_reason': 'tool_calls', 'logprobs': None, 'model_name': 'gpt-3.5-turbo', 'system_fingerprint': None, 'token_usage': {'completion_tokens': 22, 'completion_tokens_details': {'accepted_prediction_tokens': 0, 'audio_tokens': 0, 'reasoning_tokens': 0, 'rejected_prediction_tokens': 0}, 'prompt_tokens': 152, 'prompt_tokens_details': {'audio_tokens': 0, 'cached_tokens': 0}, 'total_tokens': 174}}, id='run-361fcaa0-36ed-4488-8734-069350b64e66-0', tool_calls=[{'name': 'tavily_search_results_json', 'args': {'query': 'current weather in LA, accuweather'}, 'id': 'call_A85gzFS95WcwcxpfNnILmoYc'}])]}\n"
     ]
    }
   ],
   "source": [
    "branch_state = abot.graph.update_state(to_replay.config, to_replay.values)"
   ]
  },
  {
   "cell_type": "code",
   "execution_count": 30,
   "metadata": {},
   "outputs": [
    {
     "name": "stdout",
     "output_type": "stream",
     "text": [
      "Calling: {'name': 'tavily_search_results_json', 'args': {'query': 'current weather in LA, accuweather'}, 'id': 'call_A85gzFS95WcwcxpfNnILmoYc'}\n",
      "Back to the model!\n",
      "{'messages': [ToolMessage(content='[{\\'url\\': \\'https://www.weatherapi.com/\\', \\'content\\': \"{\\'location\\': {\\'name\\': \\'Los Angeles\\', \\'region\\': \\'California\\', \\'country\\': \\'United States of America\\', \\'lat\\': 34.0522, \\'lon\\': -118.2428, \\'tz_id\\': \\'America/Los_Angeles\\', \\'localtime_epoch\\': 1740851934, \\'localtime\\': \\'2025-03-01 09:58\\'}, \\'current\\': {\\'last_updated_epoch\\': 1740851100, \\'last_updated\\': \\'2025-03-01 09:45\\', \\'temp_c\\': 15.1, \\'temp_f\\': 59.2, \\'is_day\\': 1, \\'condition\\': {\\'text\\': \\'Overcast\\', \\'icon\\': \\'//cdn.weatherapi.com/weather/64x64/day/122.png\\', \\'code\\': 1009}, \\'wind_mph\\': 3.6, \\'wind_kph\\': 5.8, \\'wind_degree\\': 233, \\'wind_dir\\': \\'SW\\', \\'pressure_mb\\': 1016.0, \\'pressure_in\\': 29.99, \\'precip_mm\\': 0.0, \\'precip_in\\': 0.0, \\'humidity\\': 72, \\'cloud\\': 100, \\'feelslike_c\\': 15.1, \\'feelslike_f\\': 59.2, \\'windchill_c\\': 12.0, \\'windchill_f\\': 53.6, \\'heatindex_c\\': 12.0, \\'heatindex_f\\': 53.6, \\'dewpoint_c\\': 11.2, \\'dewpoint_f\\': 52.1, \\'vis_km\\': 16.0, \\'vis_miles\\': 9.0, \\'uv\\': 2.0, \\'gust_mph\\': 4.2, \\'gust_kph\\': 6.7}}\"}, {\\'url\\': \\'https://www.accuweather.com/en/us/los-angeles-ca/90012/current-weather/37866_pc?lang=en-us&partner=web_stacksports_adc\\', \\'content\\': \"Los Angeles, CA Current Weather | AccuWeather 7 minutes ago Travel More than 170 killed after South Korean jet crash-lands at airport 1 day ago Winter Weather New Year\\'s storm to spread snow, rain from Midwest to Northeast 1 hour ago Recreation Search for sasquatch on Christmas claims lives of 2 men 19 hours ago  More Stories AccuWeather Ready Business Health Hurricane Leisure and Recreation Severe Weather Space and Astronomy Sports Travel Weather News Winter Center AccuWeather Ready Business Health Hurricane Leisure and Recreation Severe Weather Space and Astronomy Sports Travel Weather News Winter Center\"}]', name='tavily_search_results_json', id='c2a87030-3a47-4df6-ac30-ef4886b6492f', tool_call_id='call_A85gzFS95WcwcxpfNnILmoYc')]}\n",
      "{'messages': [HumanMessage(content='Whats the weather in LA?', id='928ab413-f312-41b4-a1e9-efa4e9b6e545'), AIMessage(content='', additional_kwargs={'tool_calls': [{'function': {'arguments': '{\"query\":\"weather in Los Angeles\"}', 'name': 'tavily_search_results_json'}, 'id': 'call_A85gzFS95WcwcxpfNnILmoYc', 'type': 'function'}]}, response_metadata={'finish_reason': 'tool_calls', 'logprobs': None, 'model_name': 'gpt-3.5-turbo', 'system_fingerprint': None, 'token_usage': {'completion_tokens': 22, 'completion_tokens_details': {'accepted_prediction_tokens': 0, 'audio_tokens': 0, 'reasoning_tokens': 0, 'rejected_prediction_tokens': 0}, 'prompt_tokens': 152, 'prompt_tokens_details': {'audio_tokens': 0, 'cached_tokens': 0}, 'total_tokens': 174}}, id='run-361fcaa0-36ed-4488-8734-069350b64e66-0', tool_calls=[{'name': 'tavily_search_results_json', 'args': {'query': 'current weather in LA, accuweather'}, 'id': 'call_A85gzFS95WcwcxpfNnILmoYc'}]), ToolMessage(content='[{\\'url\\': \\'https://www.weatherapi.com/\\', \\'content\\': \"{\\'location\\': {\\'name\\': \\'Los Angeles\\', \\'region\\': \\'California\\', \\'country\\': \\'United States of America\\', \\'lat\\': 34.0522, \\'lon\\': -118.2428, \\'tz_id\\': \\'America/Los_Angeles\\', \\'localtime_epoch\\': 1740851934, \\'localtime\\': \\'2025-03-01 09:58\\'}, \\'current\\': {\\'last_updated_epoch\\': 1740851100, \\'last_updated\\': \\'2025-03-01 09:45\\', \\'temp_c\\': 15.1, \\'temp_f\\': 59.2, \\'is_day\\': 1, \\'condition\\': {\\'text\\': \\'Overcast\\', \\'icon\\': \\'//cdn.weatherapi.com/weather/64x64/day/122.png\\', \\'code\\': 1009}, \\'wind_mph\\': 3.6, \\'wind_kph\\': 5.8, \\'wind_degree\\': 233, \\'wind_dir\\': \\'SW\\', \\'pressure_mb\\': 1016.0, \\'pressure_in\\': 29.99, \\'precip_mm\\': 0.0, \\'precip_in\\': 0.0, \\'humidity\\': 72, \\'cloud\\': 100, \\'feelslike_c\\': 15.1, \\'feelslike_f\\': 59.2, \\'windchill_c\\': 12.0, \\'windchill_f\\': 53.6, \\'heatindex_c\\': 12.0, \\'heatindex_f\\': 53.6, \\'dewpoint_c\\': 11.2, \\'dewpoint_f\\': 52.1, \\'vis_km\\': 16.0, \\'vis_miles\\': 9.0, \\'uv\\': 2.0, \\'gust_mph\\': 4.2, \\'gust_kph\\': 6.7}}\"}, {\\'url\\': \\'https://www.accuweather.com/en/us/los-angeles-ca/90012/current-weather/37866_pc?lang=en-us&partner=web_stacksports_adc\\', \\'content\\': \"Los Angeles, CA Current Weather | AccuWeather 7 minutes ago Travel More than 170 killed after South Korean jet crash-lands at airport 1 day ago Winter Weather New Year\\'s storm to spread snow, rain from Midwest to Northeast 1 hour ago Recreation Search for sasquatch on Christmas claims lives of 2 men 19 hours ago  More Stories AccuWeather Ready Business Health Hurricane Leisure and Recreation Severe Weather Space and Astronomy Sports Travel Weather News Winter Center AccuWeather Ready Business Health Hurricane Leisure and Recreation Severe Weather Space and Astronomy Sports Travel Weather News Winter Center\"}]', name='tavily_search_results_json', id='c2a87030-3a47-4df6-ac30-ef4886b6492f', tool_call_id='call_A85gzFS95WcwcxpfNnILmoYc'), AIMessage(content='The current weather in Los Angeles is as follows:\\n- Temperature: 59.2°F (15.1°C)\\n- Condition: Overcast\\n- Wind: 3.6 mph (5.8 km/h) from the southwest\\n- Humidity: 72%\\n- Cloud cover: 100%\\n- Visibility: 9.0 miles (16.0 km)', response_metadata={'token_usage': {'completion_tokens': 79, 'prompt_tokens': 764, 'total_tokens': 843, 'prompt_tokens_details': {'cached_tokens': 0, 'audio_tokens': 0}, 'completion_tokens_details': {'reasoning_tokens': 0, 'audio_tokens': 0, 'accepted_prediction_tokens': 0, 'rejected_prediction_tokens': 0}}, 'model_name': 'gpt-3.5-turbo', 'system_fingerprint': None, 'finish_reason': 'stop', 'logprobs': None}, id='run-e24709f2-8cd8-4b89-8bdd-84bb2a656a03-0')]}\n",
      "{'messages': [AIMessage(content='The current weather in Los Angeles is as follows:\\n- Temperature: 59.2°F (15.1°C)\\n- Condition: Overcast\\n- Wind: 3.6 mph (5.8 km/h) from the southwest\\n- Humidity: 72%\\n- Cloud cover: 100%\\n- Visibility: 9.0 miles (16.0 km)', response_metadata={'token_usage': {'completion_tokens': 79, 'prompt_tokens': 764, 'total_tokens': 843, 'prompt_tokens_details': {'cached_tokens': 0, 'audio_tokens': 0}, 'completion_tokens_details': {'reasoning_tokens': 0, 'audio_tokens': 0, 'accepted_prediction_tokens': 0, 'rejected_prediction_tokens': 0}}, 'model_name': 'gpt-3.5-turbo', 'system_fingerprint': None, 'finish_reason': 'stop', 'logprobs': None}, id='run-e24709f2-8cd8-4b89-8bdd-84bb2a656a03-0')]}\n"
     ]
    }
   ],
   "source": [
    "for event in abot.graph.stream(None, branch_state):\n",
    "    for k, v in event.items():\n",
    "        if k != \"__end__\":\n",
    "            print(v)"
   ]
  },
  {
   "cell_type": "markdown",
   "metadata": {},
   "source": [
    "## Add message to a state at a given time"
   ]
  },
  {
   "cell_type": "code",
   "execution_count": 31,
   "metadata": {},
   "outputs": [
    {
     "data": {
      "text/plain": [
       "StateSnapshot(values={'messages': [HumanMessage(content='Whats the weather in LA?', id='928ab413-f312-41b4-a1e9-efa4e9b6e545'), AIMessage(content='', additional_kwargs={'tool_calls': [{'function': {'arguments': '{\"query\":\"weather in Los Angeles\"}', 'name': 'tavily_search_results_json'}, 'id': 'call_A85gzFS95WcwcxpfNnILmoYc', 'type': 'function'}]}, response_metadata={'finish_reason': 'tool_calls', 'logprobs': None, 'model_name': 'gpt-3.5-turbo', 'system_fingerprint': None, 'token_usage': {'completion_tokens': 22, 'completion_tokens_details': {'accepted_prediction_tokens': 0, 'audio_tokens': 0, 'reasoning_tokens': 0, 'rejected_prediction_tokens': 0}, 'prompt_tokens': 152, 'prompt_tokens_details': {'audio_tokens': 0, 'cached_tokens': 0}, 'total_tokens': 174}}, id='run-361fcaa0-36ed-4488-8734-069350b64e66-0', tool_calls=[{'name': 'tavily_search_results_json', 'args': {'query': 'current weather in LA, accuweather'}, 'id': 'call_A85gzFS95WcwcxpfNnILmoYc'}])]}, next=('action',), config={'configurable': {'thread_id': '3', 'thread_ts': '1eff6c5d-fad1-6c00-8001-b738a7f63650'}}, metadata={'source': 'loop', 'step': 1, 'writes': {'llm': {'messages': [AIMessage(content='', additional_kwargs={'tool_calls': [{'function': {'arguments': '{\"query\":\"weather in Los Angeles\"}', 'name': 'tavily_search_results_json'}, 'id': 'call_A85gzFS95WcwcxpfNnILmoYc', 'type': 'function'}]}, response_metadata={'finish_reason': 'tool_calls', 'logprobs': None, 'model_name': 'gpt-3.5-turbo', 'system_fingerprint': None, 'token_usage': {'completion_tokens': 22, 'completion_tokens_details': {'accepted_prediction_tokens': 0, 'audio_tokens': 0, 'reasoning_tokens': 0, 'rejected_prediction_tokens': 0}, 'prompt_tokens': 152, 'prompt_tokens_details': {'audio_tokens': 0, 'cached_tokens': 0}, 'total_tokens': 174}}, id='run-361fcaa0-36ed-4488-8734-069350b64e66-0', tool_calls=[{'name': 'tavily_search_results_json', 'args': {'query': 'weather in Los Angeles'}, 'id': 'call_A85gzFS95WcwcxpfNnILmoYc'}])]}}}, created_at='2025-03-01T17:51:59.342899+00:00', parent_config={'configurable': {'thread_id': '3', 'thread_ts': '1eff6c5d-f5ed-6b3e-8000-05ae57ee7a47'}})"
      ]
     },
     "execution_count": 31,
     "metadata": {},
     "output_type": "execute_result"
    }
   ],
   "source": [
    "to_replay"
   ]
  },
  {
   "cell_type": "code",
   "execution_count": 32,
   "metadata": {},
   "outputs": [],
   "source": [
    "_id = to_replay.values['messages'][-1].tool_calls[0]['id']"
   ]
  },
  {
   "cell_type": "code",
   "execution_count": 33,
   "metadata": {},
   "outputs": [],
   "source": [
    "state_update = {\"messages\": [ToolMessage(\n",
    "    tool_call_id=_id,\n",
    "    name=\"tavily_search_results_json\",\n",
    "    content=\"54 degree celcius\",\n",
    ")]}"
   ]
  },
  {
   "cell_type": "code",
   "execution_count": null,
   "metadata": {},
   "outputs": [],
   "source": [
    "branch_and_add = abot.graph.update_state(\n",
    "    to_replay.config, \n",
    "    state_update,\n",
    "    # we need this extra param to make the state update behave\n",
    "    # as if we were the action node\n",
    "    as_node=\"action\"\n",
    ") "
   ]
  },
  {
   "cell_type": "code",
   "execution_count": 35,
   "metadata": {},
   "outputs": [
    {
     "name": "stdout",
     "output_type": "stream",
     "text": [
      "{'messages': [HumanMessage(content='Whats the weather in LA?', id='928ab413-f312-41b4-a1e9-efa4e9b6e545'), AIMessage(content='', additional_kwargs={'tool_calls': [{'function': {'arguments': '{\"query\":\"weather in Los Angeles\"}', 'name': 'tavily_search_results_json'}, 'id': 'call_A85gzFS95WcwcxpfNnILmoYc', 'type': 'function'}]}, response_metadata={'finish_reason': 'tool_calls', 'logprobs': None, 'model_name': 'gpt-3.5-turbo', 'system_fingerprint': None, 'token_usage': {'completion_tokens': 22, 'completion_tokens_details': {'accepted_prediction_tokens': 0, 'audio_tokens': 0, 'reasoning_tokens': 0, 'rejected_prediction_tokens': 0}, 'prompt_tokens': 152, 'prompt_tokens_details': {'audio_tokens': 0, 'cached_tokens': 0}, 'total_tokens': 174}}, id='run-361fcaa0-36ed-4488-8734-069350b64e66-0', tool_calls=[{'name': 'tavily_search_results_json', 'args': {'query': 'weather in Los Angeles'}, 'id': 'call_A85gzFS95WcwcxpfNnILmoYc'}]), ToolMessage(content='54 degree celcius', name='tavily_search_results_json', id='e2d9d469-2477-4ee5-bd70-68635744ed67', tool_call_id='call_A85gzFS95WcwcxpfNnILmoYc'), AIMessage(content='The weather in Los Angeles is currently 54 degrees Celsius.', response_metadata={'token_usage': {'completion_tokens': 14, 'prompt_tokens': 190, 'total_tokens': 204, 'prompt_tokens_details': {'cached_tokens': 0, 'audio_tokens': 0}, 'completion_tokens_details': {'reasoning_tokens': 0, 'audio_tokens': 0, 'accepted_prediction_tokens': 0, 'rejected_prediction_tokens': 0}}, 'model_name': 'gpt-3.5-turbo', 'system_fingerprint': None, 'finish_reason': 'stop', 'logprobs': None}, id='run-56a710f3-fb85-4afa-b5e5-5d6bad8105e5-0')]}\n",
      "{'messages': [AIMessage(content='The weather in Los Angeles is currently 54 degrees Celsius.', response_metadata={'token_usage': {'completion_tokens': 14, 'prompt_tokens': 190, 'total_tokens': 204, 'prompt_tokens_details': {'cached_tokens': 0, 'audio_tokens': 0}, 'completion_tokens_details': {'reasoning_tokens': 0, 'audio_tokens': 0, 'accepted_prediction_tokens': 0, 'rejected_prediction_tokens': 0}}, 'model_name': 'gpt-3.5-turbo', 'system_fingerprint': None, 'finish_reason': 'stop', 'logprobs': None}, id='run-56a710f3-fb85-4afa-b5e5-5d6bad8105e5-0')]}\n"
     ]
    }
   ],
   "source": [
    "for event in abot.graph.stream(None, branch_and_add):\n",
    "    for k, v in event.items():\n",
    "        print(v)"
   ]
  }
 ],
 "metadata": {
  "kernelspec": {
   "display_name": "ai-agents-in-langgraph-notes-ufgr41S4",
   "language": "python",
   "name": "python3"
  },
  "language_info": {
   "codemirror_mode": {
    "name": "ipython",
    "version": 3
   },
   "file_extension": ".py",
   "mimetype": "text/x-python",
   "name": "python",
   "nbconvert_exporter": "python",
   "pygments_lexer": "ipython3",
   "version": "3.12.6"
  }
 },
 "nbformat": 4,
 "nbformat_minor": 2
}
